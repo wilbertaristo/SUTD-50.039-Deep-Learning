{
 "cells": [
  {
   "cell_type": "code",
   "execution_count": 1,
   "id": "gentle-picnic",
   "metadata": {},
   "outputs": [],
   "source": [
    "import torch\n",
    "import numpy as np\n",
    "\n",
    "## Initialize Random Dimensions\n",
    "i, j, k, l = 2, 3, 4, 5\n",
    "d, e, f = 2, 3, 4"
   ]
  },
  {
   "cell_type": "code",
   "execution_count": 2,
   "id": "intense-forestry",
   "metadata": {},
   "outputs": [
    {
     "data": {
      "text/plain": [
       "tensor([[0.7106, 0.4751, 0.1074, 0.5050],\n",
       "        [0.1874, 0.2060, 0.7560, 0.3683],\n",
       "        [0.6379, 0.1714, 0.3815, 0.3631]])"
      ]
     },
     "execution_count": 2,
     "metadata": {},
     "output_type": "execute_result"
    }
   ],
   "source": [
    "# ======== PART 1 ========== #\n",
    "a = torch.rand(i,j,k)\n",
    "b = torch.rand(i)\n",
    "torch.einsum('ijk,i->jk', [a,b])"
   ]
  },
  {
   "cell_type": "code",
   "execution_count": 3,
   "id": "broke-middle",
   "metadata": {},
   "outputs": [
    {
     "data": {
      "text/plain": [
       "tensor([[8.6774, 6.9416, 7.9800, 9.1784],\n",
       "        [7.6658, 6.9323, 8.4024, 6.5398]])"
      ]
     },
     "execution_count": 3,
     "metadata": {},
     "output_type": "execute_result"
    }
   ],
   "source": [
    "# ======== PART 2 ========== #\n",
    "a = torch.rand(i,j,k,l)\n",
    "torch.einsum('ijkl->ik', [a])"
   ]
  },
  {
   "cell_type": "code",
   "execution_count": 4,
   "id": "dedicated-injury",
   "metadata": {},
   "outputs": [
    {
     "data": {
      "text/plain": [
       "tensor([[7.2821, 9.2879],\n",
       "        [6.0479, 6.9824],\n",
       "        [7.4921, 8.1196],\n",
       "        [6.1522, 6.0205]])"
      ]
     },
     "execution_count": 4,
     "metadata": {},
     "output_type": "execute_result"
    }
   ],
   "source": [
    "# ======== PART 3 ========== #\n",
    "a = torch.rand(i,j,k,l)\n",
    "torch.einsum('ijkl->ki', [a])"
   ]
  },
  {
   "cell_type": "code",
   "execution_count": 5,
   "id": "demographic-crystal",
   "metadata": {},
   "outputs": [
    {
     "data": {
      "text/plain": [
       "tensor([3.4680, 3.6339])"
      ]
     },
     "execution_count": 5,
     "metadata": {},
     "output_type": "execute_result"
    }
   ],
   "source": [
    "# ======== PART 4 ========== #\n",
    "a = torch.rand(i,j,k)\n",
    "torch.einsum('ijk,ijk->i', [a,a])"
   ]
  },
  {
   "cell_type": "code",
   "execution_count": 6,
   "id": "identical-native",
   "metadata": {},
   "outputs": [
    {
     "data": {
      "text/plain": [
       "tensor([[2.4761, 2.0254, 2.0391, 2.0957, 0.9469],\n",
       "        [1.3587, 1.0664, 1.1010, 1.1357, 0.5326]])"
      ]
     },
     "execution_count": 6,
     "metadata": {},
     "output_type": "execute_result"
    }
   ],
   "source": [
    "# ======== PART 5 ========== #\n",
    "a = torch.rand(d,e)\n",
    "g = torch.rand(f,e)\n",
    "b = torch.rand(f,l)\n",
    "torch.einsum('de,fe,fl->dl', [a,g,b])"
   ]
  }
 ],
 "metadata": {
  "kernelspec": {
   "display_name": "DeepLearning",
   "language": "python",
   "name": "deeplearning"
  },
  "language_info": {
   "codemirror_mode": {
    "name": "ipython",
    "version": 3
   },
   "file_extension": ".py",
   "mimetype": "text/x-python",
   "name": "python",
   "nbconvert_exporter": "python",
   "pygments_lexer": "ipython3",
   "version": "3.8.7"
  }
 },
 "nbformat": 4,
 "nbformat_minor": 5
}
