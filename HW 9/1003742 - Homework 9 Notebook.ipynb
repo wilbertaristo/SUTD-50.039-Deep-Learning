{
 "cells": [
  {
   "cell_type": "markdown",
   "id": "through-glossary",
   "metadata": {},
   "source": [
    "# Homework 9 - Descriptive Notebook\n",
    "\n",
    "In this homework notebook, we will create and train our own SkipGram embedding, by using the speech from Martin Luther King in the text.text file.\n",
    "\n",
    "Get familiar with the code and write a small report (2 pages max), with answers to the questions listed at the end of the notebook.\n",
    "\n",
    "**The report must be submitted in PDF format, before April 4th, 11.59pm!**\n",
    "\n",
    "Do not forget to write your name and student ID on the report.\n",
    "\n",
    "You may also submit your own copy of the notebook along with the report. If you do so, please add your name and ID to the cell below."
   ]
  },
  {
   "cell_type": "code",
   "execution_count": 1,
   "id": "pacific-laundry",
   "metadata": {},
   "outputs": [],
   "source": [
    "# Name: Wilbert Aristo Guntoro\n",
    "# Student ID: 1003742"
   ]
  },
  {
   "cell_type": "markdown",
   "id": "featured-saturn",
   "metadata": {},
   "source": [
    "### Imports needed\n",
    "\n",
    "Note, we strongly advise to use a CUDA/GPU machine for this notebook.\n",
    "\n",
    "Technically, this can be done on CPU only, but it will be very slow!\n",
    "\n",
    "If you decide to use it on CPU, you might also have to change some of the .cuda() methods used on torch tensors and models in this notebook!"
   ]
  },
  {
   "cell_type": "code",
   "execution_count": 2,
   "id": "diverse-ivory",
   "metadata": {},
   "outputs": [],
   "source": [
    "import torch\n",
    "from torch.autograd import Variable\n",
    "import torch.nn as nn\n",
    "import torch.optim as optim\n",
    "import torch.nn.functional as F\n",
    "import functools\n",
    "import matplotlib.pyplot as plt\n",
    "CUDA = torch.cuda.is_available()"
   ]
  },
  {
   "cell_type": "markdown",
   "id": "informed-tattoo",
   "metadata": {},
   "source": [
    "### Step 1. Produce some data based on a given text for training our SkipGram model    \n",
    "\n",
    "The functions below will be used to produce our dataset for training the SkipGram model."
   ]
  },
  {
   "cell_type": "code",
   "execution_count": 3,
   "id": "protected-truth",
   "metadata": {},
   "outputs": [],
   "source": [
    "def text_to_train(text, context_window):\n",
    "    \"\"\"\n",
    "    This function receives the text as a list of words, in lowercase format.\n",
    "    It then returns data, a list of all the possible (x,y) pairs with\n",
    "    - x being the middle word of the sentence of length 2*context_window+1,\n",
    "    - y being a list of 2k words, containing the k preceding words and the k\n",
    "    posterior words.\n",
    "    \"\"\"\n",
    "    \n",
    "    # Get data from list of words in text, using a context window of size k = context_window\n",
    "    data = []\n",
    "    for i in range(context_window, len(text) - context_window):\n",
    "        target = [text[i+e] for e in range(-context_window, context_window+1) if i+e != i]\n",
    "        input_word = text[i]\n",
    "        data.append((input_word, target))\n",
    "        \n",
    "    return data"
   ]
  },
  {
   "cell_type": "code",
   "execution_count": 4,
   "id": "sensitive-preserve",
   "metadata": {},
   "outputs": [],
   "source": [
    "def create_text():\n",
    "    \"\"\"\n",
    "    This function loads the string of text from the text.txt file,\n",
    "    and produces a list of words in string format, as variable text.\n",
    "    \"\"\"\n",
    "    \n",
    "    # Load corpus from file\n",
    "    with open(\"./text.txt\", 'r', encoding=\"utf8\",) as f:\n",
    "        corpus = f.readlines()\n",
    "    f.close()\n",
    "    \n",
    "    # Join corpus into a single string\n",
    "    text = \"\"\n",
    "    for s in corpus:\n",
    "        l = s.split()\n",
    "        for s2 in l:\n",
    "            # Removes all special characters from string\n",
    "            s2 = ''.join(filter(str.isalnum, s2))\n",
    "            s2 += ' '\n",
    "            text += s2.lower()\n",
    "    text = text.split()\n",
    "    \n",
    "    return text"
   ]
  },
  {
   "cell_type": "code",
   "execution_count": 5,
   "id": "identical-heather",
   "metadata": {
    "scrolled": false
   },
   "outputs": [
    {
     "name": "stdout",
     "output_type": "stream",
     "text": [
      "['i', 'am', 'happy', 'to', 'join', 'with', 'you', 'today', 'in', 'what', 'will', 'go', 'down', 'in', 'history', 'as', 'the', 'greatest', 'demonstration', 'for', 'freedom', 'in', 'the', 'history', 'of', 'our', 'nation', 'five', 'score', 'years', 'ago', 'a', 'great', 'american', 'in', 'whose', 'symbolic', 'shadow', 'we', 'stand', 'today', 'signed', 'the', 'emancipation', 'proclamation', 'this', 'momentous', 'decree', 'came', 'as', 'a', 'great', 'beacon', 'of', 'hope', 'to', 'millions', 'of', 'slaves', 'who', 'had', 'been', 'seared', 'in', 'the', 'flames', 'of', 'whithering', 'injustice', 'it', 'came', 'as', 'a', 'joyous', 'daybreak', 'to', 'end', 'the', 'long', 'night', 'of', 'their', 'captivity', 'but', 'one', 'hundred', 'years', 'later', 'the', 'colored', 'america', 'is', 'still', 'not', 'free', 'one', 'hundred', 'years', 'later', 'the', 'life', 'of', 'the', 'colored', 'american', 'is', 'still', 'sadly', 'crippled', 'by', 'the', 'manacle', 'of', 'segregation', 'and', 'the', 'chains', 'of', 'discrimination', 'one', 'hundred', 'years', 'later', 'the', 'colored', 'american', 'lives', 'on', 'a', 'lonely', 'island', 'of', 'poverty', 'in', 'the', 'midst', 'of', 'a', 'vast', 'ocean', 'of', 'material', 'prosperity', 'one', 'hundred', 'years', 'later', 'the', 'colored', 'american', 'is', 'still', 'languishing', 'in', 'the', 'corners', 'of', 'american', 'society', 'and', 'finds', 'himself', 'an', 'exile', 'in', 'his', 'own', 'land', 'so', 'we', 'have', 'come', 'here', 'today', 'to', 'dramatize', 'a', 'shameful', 'condition', 'in', 'a', 'sense', 'we', 'have', 'come', 'to', 'our', 'nations', 'capital', 'to', 'cash', 'a', 'check', 'when', 'the', 'architects', 'of', 'our', 'great', 'republic', 'wrote', 'the', 'magnificent', 'words', 'of', 'the', 'constitution', 'and', 'the', 'declaration', 'of', 'independence', 'they', 'were', 'signing', 'a', 'promissory', 'note', 'to', 'which', 'every', 'american', 'was', 'to', 'fall', 'heir', 'this', 'note', 'was', 'a', 'promise', 'that', 'all', 'men', 'yes', 'black', 'men', 'as', 'well', 'as', 'white', 'men', 'would', 'be', 'guaranteed', 'the', 'inalienable', 'rights', 'of', 'life', 'liberty', 'and', 'the', 'pursuit', 'of', 'happiness', 'it', 'is', 'obvious', 'today', 'that', 'america', 'has', 'defaulted', 'on', 'this', 'promissory', 'note', 'insofar', 'as', 'her', 'citizens', 'of', 'color', 'are', 'concerned', 'instead', 'of', 'honoring', 'this', 'sacred', 'obligation', 'america', 'has', 'given', 'its', 'colored', 'people', 'a', 'bad', 'check', 'a', 'check', 'that', 'has', 'come', 'back', 'marked', 'insufficient', 'funds', 'but', 'we', 'refuse', 'to', 'believe', 'that', 'the', 'bank', 'of', 'justice', 'is', 'bankrupt', 'we', 'refuse', 'to', 'believe', 'that', 'there', 'are', 'insufficient', 'funds', 'in', 'the', 'great', 'vaults', 'of', 'opportunity', 'of', 'this', 'nation', 'so', 'we', 'have', 'come', 'to', 'cash', 'this', 'check', 'a', 'check', 'that', 'will', 'give', 'us', 'upon', 'demand', 'the', 'riches', 'of', 'freedom', 'and', 'security', 'of', 'justice', 'we', 'have', 'also', 'come', 'to', 'his', 'hallowed', 'spot', 'to', 'remind', 'america', 'of', 'the', 'fierce', 'urgency', 'of', 'now', 'this', 'is', 'not', 'time', 'to', 'engage', 'in', 'the', 'luxury', 'of', 'cooling', 'off', 'or', 'to', 'take', 'the', 'tranquilizing', 'drug', 'of', 'gradualism', 'now', 'is', 'the', 'time', 'to', 'make', 'real', 'the', 'promise', 'of', 'democracy', 'now', 'it', 'the', 'time', 'to', 'rise', 'from', 'the', 'dark', 'and', 'desolate', 'valley', 'of', 'segregation', 'to', 'the', 'sunlit', 'path', 'of', 'racial', 'justice', 'now', 'it', 'the', 'time', 'to', 'lift', 'our', 'nation', 'from', 'the', 'quicksand', 'of', 'racial', 'injustice', 'to', 'the', 'solid', 'rock', 'of', 'brotherhood', 'now', 'is', 'the', 'time', 'to', 'make', 'justice', 'a', 'reality', 'to', 'all', 'of', 'gods', 'children', 'i', 'would', 'be', 'fatal', 'for', 'the', 'nation', 'to', 'overlook', 'the', 'urgency', 'of', 'the', 'moment', 'and', 'to', 'underestimate', 'the', 'determination', 'of', 'its', 'colored', 'citizens', 'this', 'sweltering', 'summer', 'of', 'the', 'colored', 'peoples', 'legitimate', 'discontent', 'will', 'not', 'pass', 'until', 'there', 'is', 'an', 'invigorating', 'autumn', 'of', 'freedom', 'and', 'equality', 'nineteen', 'sixtythree', 'is', 'not', 'an', 'end', 'but', 'a', 'beginning', 'those', 'who', 'hope', 'that', 'the', 'colored', 'americans', 'needed', 'to', 'blow', 'off', 'steam', 'and', 'will', 'now', 'be', 'content', 'will', 'have', 'a', 'rude', 'awakening', 'if', 'the', 'nation', 'returns', 'to', 'business', 'as', 'usual', 'there', 'will', 'be', 'neither', 'rest', 'nor', 'tranquility', 'in', 'america', 'until', 'the', 'colored', 'citizen', 'is', 'granted', 'his', 'citizenship', 'rights', 'the', 'whirlwinds', 'of', 'revolt', 'will', 'continue', 'to', 'shake', 'the', 'foundations', 'of', 'our', 'nation', 'until', 'the', 'bright', 'day', 'of', 'justice', 'emerges', 'we', 'can', 'never', 'be', 'satisfied', 'as', 'long', 'as', 'our', 'bodies', 'heavy', 'with', 'the', 'fatigue', 'of', 'travel', 'cannot', 'gain', 'lodging', 'in', 'the', 'motels', 'of', 'the', 'highways', 'and', 'the', 'hotels', 'of', 'the', 'cities', 'we', 'cannot', 'be', 'satisfied', 'as', 'long', 'as', 'the', 'colored', 'persons', 'basic', 'mobility', 'is', 'from', 'a', 'smaller', 'ghetto', 'to', 'a', 'larger', 'one', 'we', 'can', 'never', 'be', 'satisfied', 'as', 'long', 'as', 'our', 'children', 'are', 'stripped', 'of', 'their', 'selfhood', 'and', 'robbed', 'of', 'their', 'dignity', 'by', 'signs', 'stating', 'for', 'white', 'only', 'we', 'cannot', 'be', 'satisfied', 'as', 'long', 'as', 'a', 'colored', 'person', 'in', 'mississippi', 'cannot', 'vote', 'and', 'a', 'colored', 'person', 'in', 'new', 'york', 'believes', 'he', 'has', 'nothing', 'for', 'which', 'to', 'vote', 'no', 'no', 'we', 'are', 'not', 'satisfied', 'and', 'we', 'will', 'not', 'be', 'satisfied', 'until', 'justice', 'rolls', 'down', 'like', 'waters', 'and', 'righteousness', 'like', 'a', 'mighty', 'stream', 'i', 'am', 'not', 'unmindful', 'that', 'some', 'of', 'you', 'have', 'come', 'here', 'out', 'of', 'your', 'trials', 'and', 'tribulations', 'some', 'of', 'you', 'have', 'come', 'from', 'areas', 'where', 'your', 'quest', 'for', 'freedom', 'left', 'you', 'battered', 'by', 'storms', 'of', 'persecutions', 'and', 'staggered', 'by', 'the', 'winds', 'of', 'police', 'brutality', 'you', 'have', 'been', 'the', 'veterans', 'of', 'creative', 'suffering', 'continue', 'to', 'work', 'with', 'the', 'faith', 'that', 'unearned', 'suffering', 'is', 'redemptive', 'go', 'back', 'to', 'mississippi', 'go', 'back', 'to', 'alabama', 'go', 'back', 'to', 'south', 'carolina', 'go', 'back', 'to', 'georgia', 'go', 'back', 'to', 'louisiana', 'go', 'back', 'to', 'the', 'slums', 'and', 'ghettos', 'of', 'our', 'modern', 'cities', 'knowing', 'that', 'somehow', 'this', 'situation', 'can', 'and', 'will', 'be', 'changed', 'let', 'us', 'not', 'wallow', 'in', 'the', 'valley', 'of', 'despair', 'i', 'say', 'to', 'you', 'my', 'friends', 'we', 'have', 'the', 'difficulties', 'of', 'today', 'and', 'tomorrow', 'i', 'still', 'have', 'a', 'dream', 'it', 'is', 'a', 'dream', 'deeply', 'rooted', 'in', 'the', 'american', 'dream', 'i', 'have', 'a', 'dream', 'that', 'one', 'day', 'this', 'nation', 'will', 'rise', 'up', 'and', 'live', 'out', 'the', 'true', 'meaning', 'of', 'its', 'creed', 'we', 'hold', 'these', 'truths', 'to', 'be', 'selfevident', 'that', 'all', 'men', 'are', 'created', 'equal', 'i', 'have', 'a', 'dream', 'that', 'one', 'day', 'out', 'in', 'the', 'red', 'hills', 'of', 'georgia', 'the', 'sons', 'of', 'former', 'slaves', 'and', 'the', 'sons', 'of', 'former', 'slaveowners', 'will', 'be', 'able', 'to', 'sit', 'down', 'together', 'at', 'the', 'table', 'of', 'brotherhood', 'i', 'have', 'a', 'dream', 'that', 'one', 'day', 'even', 'the', 'state', 'of', 'mississippi', 'a', 'state', 'sweltering', 'with', 'the', 'heat', 'of', 'oppression', 'will', 'be', 'transformed', 'into', 'an', 'oasis', 'of', 'freedom', 'and', 'justice', 'i', 'have', 'a', 'dream', 'that', 'my', 'four', 'little', 'children', 'will', 'one', 'day', 'live', 'in', 'a', 'nation', 'where', 'they', 'will', 'not', 'be', 'judged', 'by', 'the', 'color', 'of', 'their', 'skin', 'but', 'by', 'their', 'character', 'i', 'have', 'a', 'dream', 'today', 'i', 'have', 'a', 'dream', 'that', 'one', 'day', 'down', 'in', 'alabama', 'with', 'its', 'vicious', 'racists', 'with', 'its', 'governor', 'having', 'his', 'lips', 'dripping', 'with', 'the', 'words', 'of', 'interposition', 'and', 'nullification', 'that', 'one', 'day', 'right', 'down', 'in', 'alabama', 'little', 'black', 'boys', 'and', 'black', 'girls', 'will', 'be', 'able', 'to', 'join', 'hands', 'with', 'little', 'white', 'boys', 'and', 'white', 'girls', 'as', 'sisters', 'and', 'brothers', 'i', 'have', 'a', 'dream', 'today', 'i', 'have', 'a', 'dream', 'that', 'one', 'day', 'every', 'valley', 'shall', 'be', 'engulfed', 'every', 'hill', 'shall', 'be', 'exalted', 'and', 'every', 'mountain', 'shall', 'be', 'made', 'low', 'the', 'rough', 'places', 'will', 'be', 'made', 'plains', 'and', 'the', 'crooked', 'places', 'will', 'be', 'made', 'straight', 'and', 'the', 'glory', 'of', 'the', 'lord', 'shall', 'be', 'revealed', 'and', 'all', 'flesh', 'shall', 'see', 'it', 'together', 'this', 'is', 'our', 'hope', 'this', 'is', 'the', 'faith', 'that', 'i', 'will', 'go', 'back', 'to', 'the', 'south', 'with', 'with', 'this', 'faith', 'we', 'will', 'be', 'able', 'to', 'hew', 'out', 'of', 'the', 'mountain', 'of', 'despair', 'a', 'stone', 'of', 'hope', 'with', 'this', 'faith', 'we', 'will', 'be', 'able', 'to', 'transform', 'the', 'jangling', 'discords', 'of', 'our', 'nation', 'into', 'a', 'beautiful', 'symphony', 'of', 'brotherhood', 'with', 'this', 'faith', 'we', 'will', 'be', 'able', 'to', 'work', 'together', 'to', 'pray', 'together', 'to', 'struggle', 'together', 'to', 'go', 'to', 'jail', 'together', 'to', 'climb', 'up', 'for', 'freedom', 'together', 'knowing', 'that', 'we', 'will', 'be', 'free', 'one', 'day', 'this', 'will', 'be', 'the', 'day', 'when', 'all', 'of', 'gods', 'children', 'will', 'be', 'able', 'to', 'sing', 'with', 'new', 'meaning', 'my', 'country', 'tis', 'of', 'thee', 'sweet', 'land', 'of', 'liberty', 'of', 'thee', 'i', 'sing', 'land', 'where', 'my', 'fathers', 'died', 'land', 'of', 'the', 'pilgrims', 'pride', 'from', 'every', 'mountainside', 'let', 'freedom', 'ring', 'and', 'if', 'america', 'is', 'to', 'be', 'a', 'great', 'nation', 'this', 'must', 'become', 'true', 'so', 'let', 'freedom', 'ring', 'from', 'the', 'hilltops', 'of', 'new', 'hampshire', 'let', 'freedom', 'ring', 'from', 'the', 'mighty', 'mountains', 'of', 'new', 'york', 'let', 'freedom', 'ring', 'from', 'the', 'heightening', 'alleghenies', 'of', 'pennsylvania', 'let', 'freedom', 'ring', 'from', 'the', 'snowcapped', 'rockies', 'of', 'colorado', 'let', 'freedom', 'ring', 'from', 'the', 'curvaceous', 'slopes', 'of', 'california', 'but', 'not', 'only', 'that', 'let', 'freedom', 'ring', 'from', 'stone', 'mountain', 'of', 'georgia', 'let', 'freedom', 'ring', 'from', 'every', 'hill', 'and', 'molehill', 'of', 'mississippi', 'and', 'every', 'mountainside', 'when', 'we', 'let', 'freedom', 'ring', 'when', 'we', 'let', 'it', 'ring', 'from', 'every', 'tenement', 'and', 'every', 'hamlet', 'from', 'every', 'state', 'and', 'every', 'city', 'we', 'will', 'be', 'able', 'to', 'speed', 'up', 'that', 'day', 'when', 'all', 'of', 'gods', 'children', 'black', 'men', 'and', 'white', 'men', 'jews', 'and', 'gentiles', 'protestants', 'and', 'catholics', 'will', 'be', 'able', 'to', 'join', 'hands', 'and', 'sing', 'in', 'the', 'words', 'of', 'the', 'old', 'spiritual', 'free', 'at', 'last', 'free', 'at', 'last', 'thank', 'god', 'almighty', 'we', 'are', 'free', 'at', 'last']\n"
     ]
    }
   ],
   "source": [
    "text = create_text()\n",
    "print(text)"
   ]
  },
  {
   "cell_type": "code",
   "execution_count": 6,
   "id": "separate-prayer",
   "metadata": {},
   "outputs": [],
   "source": [
    "def generate_data(text, context_window):\n",
    "    \"\"\"\n",
    "    This function receives the text and context window size.\n",
    "    It produces four outputs:\n",
    "    - vocab, a set containing the words found in text.txt,\n",
    "    without any doublons,\n",
    "    - word2index, a dictionary to convert words to their integer index,\n",
    "    - word2index, a dictionary to convert integer index to their respective words,\n",
    "    - data, containing our (x,y) pairs for training.\n",
    "    \"\"\"\n",
    "    \n",
    "    # Create vocabulary set V\n",
    "    vocab = set(text)\n",
    "    \n",
    "    # Word to index and index 2 word converters\n",
    "    word2index = {w:i for i,w in enumerate(vocab)}\n",
    "    index2word = {i:w for i,w in enumerate(vocab)}\n",
    "    \n",
    "    # Generate data\n",
    "    data = text_to_train(text, context_window)\n",
    "    \n",
    "    return vocab, data, word2index, index2word"
   ]
  },
  {
   "cell_type": "code",
   "execution_count": 7,
   "id": "indie-summer",
   "metadata": {},
   "outputs": [],
   "source": [
    "vocab, data, word2index, index2word = generate_data(text, context_window = 2)"
   ]
  },
  {
   "cell_type": "code",
   "execution_count": 8,
   "id": "presidential-sauce",
   "metadata": {},
   "outputs": [
    {
     "name": "stdout",
     "output_type": "stream",
     "text": [
      "{'ago', 'shake', 'struggle', 'invigorating', 'despair', 'hampshire', 'vote', 'revealed', 'citizen', 'live', 'shadow', 'oppression', 'note', 'four', 'luxury', 'signs', 'revolt', 'rise', 'highways', 'also', 'redemptive', 'brothers', 'prosperity', 'come', 'rooted', 'until', 'lodging', 'desolate', 'tis', 'men', 'sit', 'white', 'slums', 'georgia', 'let', 'jews', 'stone', 'dream', 'become', 'red', 'as', 'transformed', 'happiness', 'knowing', 'emerges', 'where', 'stating', 'in', 'an', 'see', 'hamlet', 'but', 'cities', 'into', 'hallowed', 'day', 'discrimination', 'those', 'beautiful', 'real', 'that', 'right', 'symbolic', 'five', 'ring', 'chains', 'land', 'table', 'bodies', 'sisters', 'spot', 'oasis', 'old', 'yes', 'rough', 'staggered', 'little', 'americans', 'satisfied', 'selfhood', 'hew', 'there', 'life', 'former', 'plains', 'heat', 'beacon', 'capital', 'promise', 'inalienable', 'rest', 'ghettos', 'happy', 'true', 'police', 'selfevident', 'no', 'fatal', 'sacred', 'sweltering', 'state', 'slaves', 'independence', 'friends', 'waters', 'righteousness', 'mountain', 'declaration', 'determination', 'sing', 'who', 'equal', 'tomorrow', 'brutality', 'nineteen', 'nation', 'hill', 'not', 'midst', 'york', 'bright', 'and', 'this', 'colorado', 'travel', 'promissory', 'lift', 'died', 'check', 'justice', 'vicious', 'off', 'up', 'person', 'louisiana', 'catholics', 'are', 'trials', 'snowcapped', 'whithering', 'given', 'places', 'stream', 'momentous', 'fatigue', 'equality', 'upon', 'condition', 'honoring', 'solid', 'us', 'created', 'dark', 'daybreak', 'brotherhood', 'quest', 'pursuit', 'now', 'insofar', 'american', 'i', 'never', 'languishing', 'emancipation', 'rock', 'veterans', 'security', 'with', 'crippled', 'storms', 'gain', 'battered', 'racial', 'larger', 'night', 'shameful', 'flesh', 'character', 'alabama', 'situation', 'pray', 'proclamation', 'nothing', 'were', 'defaulted', 'needed', 'pennsylvania', 'our', 'go', 'society', 'jangling', 'words', 'republic', 'glory', 'his', 'out', 'material', 'for', 'city', 'funds', 'exile', 'country', 'underestimate', 'overlook', 'tenement', 'refuse', 'children', 'tranquilizing', 'mighty', 'rockies', 'hope', 'all', 'been', 'island', 'suffering', 'guaranteed', 'carolina', 'take', 'a', 'crooked', 'say', 'colored', 'stripped', 'time', 'low', 'sweet', 'left', 'gentiles', 'dripping', 'will', 'faith', 'believes', 'these', 'sons', 'having', 'sixtythree', 'made', 'flames', 'people', 'of', 'bad', 'able', 'new', 'even', 'sense', 'demand', 'bank', 'curvaceous', 'dramatize', 'mississippi', 'winds', 'vast', 'hundred', 'rude', 'fall', 'on', 'mountains', 'engage', 'remind', 'vaults', 'when', 'make', 'heightening', 'granted', 'valley', 'drug', 'millions', 'liberty', 'today', 'peoples', 'insufficient', 'spiritual', 'finds', 'have', 'greatest', 'difficulties', 'your', 'unearned', 'decree', 'alleghenies', 'lips', 'exalted', 'can', 'mountainside', 'down', 'hands', 'give', 'molehill', 'obvious', 'signing', 'persons', 'which', 'score', 'history', 'later', 'free', 'injustice', 'if', 'cannot', 'architects', 'engulfed', 'meaning', 'symphony', 'last', 'usual', 'boys', 'south', 'sadly', 'speed', 'wallow', 'segregation', 'some', 'must', 'lonely', 'believe', 'pass', 'end', 'here', 'creed', 'summer', 'nor', 'color', 'we', 'whose', 'deeply', 'you', 'fierce', 'neither', 'business', 'constitution', 'autumn', 'black', 'poverty', 'hills', 'cash', 'am', 'corners', 'transform', 'creative', 'judged', 'changed', 'from', 'ghetto', 'manacle', 'citizenship', 'somehow', 'her', 'so', 'steam', 'bankrupt', 'citizens', 'has', 'hilltops', 'the', 'seared', 'marked', 'discontent', 'join', 'straight', 'god', 'came', 'lives', 'pride', 'years', 'long', 'whirlwinds', 'path', 'lord', 'was', 'smaller', 'to', 'its', 'mobility', 'only', 'my', 'tranquility', 'basic', 'like', 'fathers', 'california', 'truths', 'ocean', 'stand', 'unmindful', 'thank', 'he', 'america', 'they', 'obligation', 'jail', 'beginning', 'robbed', 'blow', 'quicksand', 'thee', 'heir', 'racists', 'persecutions', 'is', 'sunlit', 'pilgrims', 'dignity', 'almighty', 'work', 'areas', 'rolls', 'riches', 'captivity', 'by', 'motels', 'had', 'signed', 'joyous', 'at', 'hotels', 'what', 'well', 'gods', 'freedom', 'would', 'urgency', 'shall', 'together', 'gradualism', 'wrote', 'back', 'one', 'skin', 'reality', 'interposition', 'great', 'content', 'nullification', 'their', 'hold', 'rights', 'returns', 'foundations', 'discords', 'be', 'slaveowners', 'instead', 'continue', 'climb', 'awakening', 'heavy', 'or', 'protestants', 'moment', 'slopes', 'concerned', 'cooling', 'magnificent', 'governor', 'every', 'own', 'girls', 'nations', 'legitimate', 'modern', 'himself', 'demonstration', 'still', 'it', 'tribulations', 'opportunity', 'democracy'}\n"
     ]
    }
   ],
   "source": [
    "print(vocab)"
   ]
  },
  {
   "cell_type": "code",
   "execution_count": 9,
   "id": "statewide-passion",
   "metadata": {},
   "outputs": [
    {
     "name": "stdout",
     "output_type": "stream",
     "text": [
      "{'ago': 0, 'shake': 1, 'struggle': 2, 'invigorating': 3, 'despair': 4, 'hampshire': 5, 'vote': 6, 'revealed': 7, 'citizen': 8, 'live': 9, 'shadow': 10, 'oppression': 11, 'note': 12, 'four': 13, 'luxury': 14, 'signs': 15, 'revolt': 16, 'rise': 17, 'highways': 18, 'also': 19, 'redemptive': 20, 'brothers': 21, 'prosperity': 22, 'come': 23, 'rooted': 24, 'until': 25, 'lodging': 26, 'desolate': 27, 'tis': 28, 'men': 29, 'sit': 30, 'white': 31, 'slums': 32, 'georgia': 33, 'let': 34, 'jews': 35, 'stone': 36, 'dream': 37, 'become': 38, 'red': 39, 'as': 40, 'transformed': 41, 'happiness': 42, 'knowing': 43, 'emerges': 44, 'where': 45, 'stating': 46, 'in': 47, 'an': 48, 'see': 49, 'hamlet': 50, 'but': 51, 'cities': 52, 'into': 53, 'hallowed': 54, 'day': 55, 'discrimination': 56, 'those': 57, 'beautiful': 58, 'real': 59, 'that': 60, 'right': 61, 'symbolic': 62, 'five': 63, 'ring': 64, 'chains': 65, 'land': 66, 'table': 67, 'bodies': 68, 'sisters': 69, 'spot': 70, 'oasis': 71, 'old': 72, 'yes': 73, 'rough': 74, 'staggered': 75, 'little': 76, 'americans': 77, 'satisfied': 78, 'selfhood': 79, 'hew': 80, 'there': 81, 'life': 82, 'former': 83, 'plains': 84, 'heat': 85, 'beacon': 86, 'capital': 87, 'promise': 88, 'inalienable': 89, 'rest': 90, 'ghettos': 91, 'happy': 92, 'true': 93, 'police': 94, 'selfevident': 95, 'no': 96, 'fatal': 97, 'sacred': 98, 'sweltering': 99, 'state': 100, 'slaves': 101, 'independence': 102, 'friends': 103, 'waters': 104, 'righteousness': 105, 'mountain': 106, 'declaration': 107, 'determination': 108, 'sing': 109, 'who': 110, 'equal': 111, 'tomorrow': 112, 'brutality': 113, 'nineteen': 114, 'nation': 115, 'hill': 116, 'not': 117, 'midst': 118, 'york': 119, 'bright': 120, 'and': 121, 'this': 122, 'colorado': 123, 'travel': 124, 'promissory': 125, 'lift': 126, 'died': 127, 'check': 128, 'justice': 129, 'vicious': 130, 'off': 131, 'up': 132, 'person': 133, 'louisiana': 134, 'catholics': 135, 'are': 136, 'trials': 137, 'snowcapped': 138, 'whithering': 139, 'given': 140, 'places': 141, 'stream': 142, 'momentous': 143, 'fatigue': 144, 'equality': 145, 'upon': 146, 'condition': 147, 'honoring': 148, 'solid': 149, 'us': 150, 'created': 151, 'dark': 152, 'daybreak': 153, 'brotherhood': 154, 'quest': 155, 'pursuit': 156, 'now': 157, 'insofar': 158, 'american': 159, 'i': 160, 'never': 161, 'languishing': 162, 'emancipation': 163, 'rock': 164, 'veterans': 165, 'security': 166, 'with': 167, 'crippled': 168, 'storms': 169, 'gain': 170, 'battered': 171, 'racial': 172, 'larger': 173, 'night': 174, 'shameful': 175, 'flesh': 176, 'character': 177, 'alabama': 178, 'situation': 179, 'pray': 180, 'proclamation': 181, 'nothing': 182, 'were': 183, 'defaulted': 184, 'needed': 185, 'pennsylvania': 186, 'our': 187, 'go': 188, 'society': 189, 'jangling': 190, 'words': 191, 'republic': 192, 'glory': 193, 'his': 194, 'out': 195, 'material': 196, 'for': 197, 'city': 198, 'funds': 199, 'exile': 200, 'country': 201, 'underestimate': 202, 'overlook': 203, 'tenement': 204, 'refuse': 205, 'children': 206, 'tranquilizing': 207, 'mighty': 208, 'rockies': 209, 'hope': 210, 'all': 211, 'been': 212, 'island': 213, 'suffering': 214, 'guaranteed': 215, 'carolina': 216, 'take': 217, 'a': 218, 'crooked': 219, 'say': 220, 'colored': 221, 'stripped': 222, 'time': 223, 'low': 224, 'sweet': 225, 'left': 226, 'gentiles': 227, 'dripping': 228, 'will': 229, 'faith': 230, 'believes': 231, 'these': 232, 'sons': 233, 'having': 234, 'sixtythree': 235, 'made': 236, 'flames': 237, 'people': 238, 'of': 239, 'bad': 240, 'able': 241, 'new': 242, 'even': 243, 'sense': 244, 'demand': 245, 'bank': 246, 'curvaceous': 247, 'dramatize': 248, 'mississippi': 249, 'winds': 250, 'vast': 251, 'hundred': 252, 'rude': 253, 'fall': 254, 'on': 255, 'mountains': 256, 'engage': 257, 'remind': 258, 'vaults': 259, 'when': 260, 'make': 261, 'heightening': 262, 'granted': 263, 'valley': 264, 'drug': 265, 'millions': 266, 'liberty': 267, 'today': 268, 'peoples': 269, 'insufficient': 270, 'spiritual': 271, 'finds': 272, 'have': 273, 'greatest': 274, 'difficulties': 275, 'your': 276, 'unearned': 277, 'decree': 278, 'alleghenies': 279, 'lips': 280, 'exalted': 281, 'can': 282, 'mountainside': 283, 'down': 284, 'hands': 285, 'give': 286, 'molehill': 287, 'obvious': 288, 'signing': 289, 'persons': 290, 'which': 291, 'score': 292, 'history': 293, 'later': 294, 'free': 295, 'injustice': 296, 'if': 297, 'cannot': 298, 'architects': 299, 'engulfed': 300, 'meaning': 301, 'symphony': 302, 'last': 303, 'usual': 304, 'boys': 305, 'south': 306, 'sadly': 307, 'speed': 308, 'wallow': 309, 'segregation': 310, 'some': 311, 'must': 312, 'lonely': 313, 'believe': 314, 'pass': 315, 'end': 316, 'here': 317, 'creed': 318, 'summer': 319, 'nor': 320, 'color': 321, 'we': 322, 'whose': 323, 'deeply': 324, 'you': 325, 'fierce': 326, 'neither': 327, 'business': 328, 'constitution': 329, 'autumn': 330, 'black': 331, 'poverty': 332, 'hills': 333, 'cash': 334, 'am': 335, 'corners': 336, 'transform': 337, 'creative': 338, 'judged': 339, 'changed': 340, 'from': 341, 'ghetto': 342, 'manacle': 343, 'citizenship': 344, 'somehow': 345, 'her': 346, 'so': 347, 'steam': 348, 'bankrupt': 349, 'citizens': 350, 'has': 351, 'hilltops': 352, 'the': 353, 'seared': 354, 'marked': 355, 'discontent': 356, 'join': 357, 'straight': 358, 'god': 359, 'came': 360, 'lives': 361, 'pride': 362, 'years': 363, 'long': 364, 'whirlwinds': 365, 'path': 366, 'lord': 367, 'was': 368, 'smaller': 369, 'to': 370, 'its': 371, 'mobility': 372, 'only': 373, 'my': 374, 'tranquility': 375, 'basic': 376, 'like': 377, 'fathers': 378, 'california': 379, 'truths': 380, 'ocean': 381, 'stand': 382, 'unmindful': 383, 'thank': 384, 'he': 385, 'america': 386, 'they': 387, 'obligation': 388, 'jail': 389, 'beginning': 390, 'robbed': 391, 'blow': 392, 'quicksand': 393, 'thee': 394, 'heir': 395, 'racists': 396, 'persecutions': 397, 'is': 398, 'sunlit': 399, 'pilgrims': 400, 'dignity': 401, 'almighty': 402, 'work': 403, 'areas': 404, 'rolls': 405, 'riches': 406, 'captivity': 407, 'by': 408, 'motels': 409, 'had': 410, 'signed': 411, 'joyous': 412, 'at': 413, 'hotels': 414, 'what': 415, 'well': 416, 'gods': 417, 'freedom': 418, 'would': 419, 'urgency': 420, 'shall': 421, 'together': 422, 'gradualism': 423, 'wrote': 424, 'back': 425, 'one': 426, 'skin': 427, 'reality': 428, 'interposition': 429, 'great': 430, 'content': 431, 'nullification': 432, 'their': 433, 'hold': 434, 'rights': 435, 'returns': 436, 'foundations': 437, 'discords': 438, 'be': 439, 'slaveowners': 440, 'instead': 441, 'continue': 442, 'climb': 443, 'awakening': 444, 'heavy': 445, 'or': 446, 'protestants': 447, 'moment': 448, 'slopes': 449, 'concerned': 450, 'cooling': 451, 'magnificent': 452, 'governor': 453, 'every': 454, 'own': 455, 'girls': 456, 'nations': 457, 'legitimate': 458, 'modern': 459, 'himself': 460, 'demonstration': 461, 'still': 462, 'it': 463, 'tribulations': 464, 'opportunity': 465, 'democracy': 466}\n"
     ]
    }
   ],
   "source": [
    "print(word2index)"
   ]
  },
  {
   "cell_type": "code",
   "execution_count": 10,
   "id": "unique-profession",
   "metadata": {},
   "outputs": [
    {
     "name": "stdout",
     "output_type": "stream",
     "text": [
      "{0: 'ago', 1: 'shake', 2: 'struggle', 3: 'invigorating', 4: 'despair', 5: 'hampshire', 6: 'vote', 7: 'revealed', 8: 'citizen', 9: 'live', 10: 'shadow', 11: 'oppression', 12: 'note', 13: 'four', 14: 'luxury', 15: 'signs', 16: 'revolt', 17: 'rise', 18: 'highways', 19: 'also', 20: 'redemptive', 21: 'brothers', 22: 'prosperity', 23: 'come', 24: 'rooted', 25: 'until', 26: 'lodging', 27: 'desolate', 28: 'tis', 29: 'men', 30: 'sit', 31: 'white', 32: 'slums', 33: 'georgia', 34: 'let', 35: 'jews', 36: 'stone', 37: 'dream', 38: 'become', 39: 'red', 40: 'as', 41: 'transformed', 42: 'happiness', 43: 'knowing', 44: 'emerges', 45: 'where', 46: 'stating', 47: 'in', 48: 'an', 49: 'see', 50: 'hamlet', 51: 'but', 52: 'cities', 53: 'into', 54: 'hallowed', 55: 'day', 56: 'discrimination', 57: 'those', 58: 'beautiful', 59: 'real', 60: 'that', 61: 'right', 62: 'symbolic', 63: 'five', 64: 'ring', 65: 'chains', 66: 'land', 67: 'table', 68: 'bodies', 69: 'sisters', 70: 'spot', 71: 'oasis', 72: 'old', 73: 'yes', 74: 'rough', 75: 'staggered', 76: 'little', 77: 'americans', 78: 'satisfied', 79: 'selfhood', 80: 'hew', 81: 'there', 82: 'life', 83: 'former', 84: 'plains', 85: 'heat', 86: 'beacon', 87: 'capital', 88: 'promise', 89: 'inalienable', 90: 'rest', 91: 'ghettos', 92: 'happy', 93: 'true', 94: 'police', 95: 'selfevident', 96: 'no', 97: 'fatal', 98: 'sacred', 99: 'sweltering', 100: 'state', 101: 'slaves', 102: 'independence', 103: 'friends', 104: 'waters', 105: 'righteousness', 106: 'mountain', 107: 'declaration', 108: 'determination', 109: 'sing', 110: 'who', 111: 'equal', 112: 'tomorrow', 113: 'brutality', 114: 'nineteen', 115: 'nation', 116: 'hill', 117: 'not', 118: 'midst', 119: 'york', 120: 'bright', 121: 'and', 122: 'this', 123: 'colorado', 124: 'travel', 125: 'promissory', 126: 'lift', 127: 'died', 128: 'check', 129: 'justice', 130: 'vicious', 131: 'off', 132: 'up', 133: 'person', 134: 'louisiana', 135: 'catholics', 136: 'are', 137: 'trials', 138: 'snowcapped', 139: 'whithering', 140: 'given', 141: 'places', 142: 'stream', 143: 'momentous', 144: 'fatigue', 145: 'equality', 146: 'upon', 147: 'condition', 148: 'honoring', 149: 'solid', 150: 'us', 151: 'created', 152: 'dark', 153: 'daybreak', 154: 'brotherhood', 155: 'quest', 156: 'pursuit', 157: 'now', 158: 'insofar', 159: 'american', 160: 'i', 161: 'never', 162: 'languishing', 163: 'emancipation', 164: 'rock', 165: 'veterans', 166: 'security', 167: 'with', 168: 'crippled', 169: 'storms', 170: 'gain', 171: 'battered', 172: 'racial', 173: 'larger', 174: 'night', 175: 'shameful', 176: 'flesh', 177: 'character', 178: 'alabama', 179: 'situation', 180: 'pray', 181: 'proclamation', 182: 'nothing', 183: 'were', 184: 'defaulted', 185: 'needed', 186: 'pennsylvania', 187: 'our', 188: 'go', 189: 'society', 190: 'jangling', 191: 'words', 192: 'republic', 193: 'glory', 194: 'his', 195: 'out', 196: 'material', 197: 'for', 198: 'city', 199: 'funds', 200: 'exile', 201: 'country', 202: 'underestimate', 203: 'overlook', 204: 'tenement', 205: 'refuse', 206: 'children', 207: 'tranquilizing', 208: 'mighty', 209: 'rockies', 210: 'hope', 211: 'all', 212: 'been', 213: 'island', 214: 'suffering', 215: 'guaranteed', 216: 'carolina', 217: 'take', 218: 'a', 219: 'crooked', 220: 'say', 221: 'colored', 222: 'stripped', 223: 'time', 224: 'low', 225: 'sweet', 226: 'left', 227: 'gentiles', 228: 'dripping', 229: 'will', 230: 'faith', 231: 'believes', 232: 'these', 233: 'sons', 234: 'having', 235: 'sixtythree', 236: 'made', 237: 'flames', 238: 'people', 239: 'of', 240: 'bad', 241: 'able', 242: 'new', 243: 'even', 244: 'sense', 245: 'demand', 246: 'bank', 247: 'curvaceous', 248: 'dramatize', 249: 'mississippi', 250: 'winds', 251: 'vast', 252: 'hundred', 253: 'rude', 254: 'fall', 255: 'on', 256: 'mountains', 257: 'engage', 258: 'remind', 259: 'vaults', 260: 'when', 261: 'make', 262: 'heightening', 263: 'granted', 264: 'valley', 265: 'drug', 266: 'millions', 267: 'liberty', 268: 'today', 269: 'peoples', 270: 'insufficient', 271: 'spiritual', 272: 'finds', 273: 'have', 274: 'greatest', 275: 'difficulties', 276: 'your', 277: 'unearned', 278: 'decree', 279: 'alleghenies', 280: 'lips', 281: 'exalted', 282: 'can', 283: 'mountainside', 284: 'down', 285: 'hands', 286: 'give', 287: 'molehill', 288: 'obvious', 289: 'signing', 290: 'persons', 291: 'which', 292: 'score', 293: 'history', 294: 'later', 295: 'free', 296: 'injustice', 297: 'if', 298: 'cannot', 299: 'architects', 300: 'engulfed', 301: 'meaning', 302: 'symphony', 303: 'last', 304: 'usual', 305: 'boys', 306: 'south', 307: 'sadly', 308: 'speed', 309: 'wallow', 310: 'segregation', 311: 'some', 312: 'must', 313: 'lonely', 314: 'believe', 315: 'pass', 316: 'end', 317: 'here', 318: 'creed', 319: 'summer', 320: 'nor', 321: 'color', 322: 'we', 323: 'whose', 324: 'deeply', 325: 'you', 326: 'fierce', 327: 'neither', 328: 'business', 329: 'constitution', 330: 'autumn', 331: 'black', 332: 'poverty', 333: 'hills', 334: 'cash', 335: 'am', 336: 'corners', 337: 'transform', 338: 'creative', 339: 'judged', 340: 'changed', 341: 'from', 342: 'ghetto', 343: 'manacle', 344: 'citizenship', 345: 'somehow', 346: 'her', 347: 'so', 348: 'steam', 349: 'bankrupt', 350: 'citizens', 351: 'has', 352: 'hilltops', 353: 'the', 354: 'seared', 355: 'marked', 356: 'discontent', 357: 'join', 358: 'straight', 359: 'god', 360: 'came', 361: 'lives', 362: 'pride', 363: 'years', 364: 'long', 365: 'whirlwinds', 366: 'path', 367: 'lord', 368: 'was', 369: 'smaller', 370: 'to', 371: 'its', 372: 'mobility', 373: 'only', 374: 'my', 375: 'tranquility', 376: 'basic', 377: 'like', 378: 'fathers', 379: 'california', 380: 'truths', 381: 'ocean', 382: 'stand', 383: 'unmindful', 384: 'thank', 385: 'he', 386: 'america', 387: 'they', 388: 'obligation', 389: 'jail', 390: 'beginning', 391: 'robbed', 392: 'blow', 393: 'quicksand', 394: 'thee', 395: 'heir', 396: 'racists', 397: 'persecutions', 398: 'is', 399: 'sunlit', 400: 'pilgrims', 401: 'dignity', 402: 'almighty', 403: 'work', 404: 'areas', 405: 'rolls', 406: 'riches', 407: 'captivity', 408: 'by', 409: 'motels', 410: 'had', 411: 'signed', 412: 'joyous', 413: 'at', 414: 'hotels', 415: 'what', 416: 'well', 417: 'gods', 418: 'freedom', 419: 'would', 420: 'urgency', 421: 'shall', 422: 'together', 423: 'gradualism', 424: 'wrote', 425: 'back', 426: 'one', 427: 'skin', 428: 'reality', 429: 'interposition', 430: 'great', 431: 'content', 432: 'nullification', 433: 'their', 434: 'hold', 435: 'rights', 436: 'returns', 437: 'foundations', 438: 'discords', 439: 'be', 440: 'slaveowners', 441: 'instead', 442: 'continue', 443: 'climb', 444: 'awakening', 445: 'heavy', 446: 'or', 447: 'protestants', 448: 'moment', 449: 'slopes', 450: 'concerned', 451: 'cooling', 452: 'magnificent', 453: 'governor', 454: 'every', 455: 'own', 456: 'girls', 457: 'nations', 458: 'legitimate', 459: 'modern', 460: 'himself', 461: 'demonstration', 462: 'still', 463: 'it', 464: 'tribulations', 465: 'opportunity', 466: 'democracy'}\n"
     ]
    }
   ],
   "source": [
    "print(index2word)"
   ]
  },
  {
   "cell_type": "code",
   "execution_count": 11,
   "id": "unavailable-banks",
   "metadata": {
    "scrolled": false
   },
   "outputs": [
    {
     "name": "stdout",
     "output_type": "stream",
     "text": [
      "[('happy', ['i', 'am', 'to', 'join']), ('to', ['am', 'happy', 'join', 'with']), ('join', ['happy', 'to', 'with', 'you']), ('with', ['to', 'join', 'you', 'today']), ('you', ['join', 'with', 'today', 'in']), ('today', ['with', 'you', 'in', 'what']), ('in', ['you', 'today', 'what', 'will']), ('what', ['today', 'in', 'will', 'go']), ('will', ['in', 'what', 'go', 'down']), ('go', ['what', 'will', 'down', 'in']), ('down', ['will', 'go', 'in', 'history']), ('in', ['go', 'down', 'history', 'as']), ('history', ['down', 'in', 'as', 'the']), ('as', ['in', 'history', 'the', 'greatest']), ('the', ['history', 'as', 'greatest', 'demonstration']), ('greatest', ['as', 'the', 'demonstration', 'for']), ('demonstration', ['the', 'greatest', 'for', 'freedom']), ('for', ['greatest', 'demonstration', 'freedom', 'in']), ('freedom', ['demonstration', 'for', 'in', 'the']), ('in', ['for', 'freedom', 'the', 'history']), ('the', ['freedom', 'in', 'history', 'of']), ('history', ['in', 'the', 'of', 'our']), ('of', ['the', 'history', 'our', 'nation']), ('our', ['history', 'of', 'nation', 'five']), ('nation', ['of', 'our', 'five', 'score']), ('five', ['our', 'nation', 'score', 'years']), ('score', ['nation', 'five', 'years', 'ago']), ('years', ['five', 'score', 'ago', 'a']), ('ago', ['score', 'years', 'a', 'great']), ('a', ['years', 'ago', 'great', 'american']), ('great', ['ago', 'a', 'american', 'in']), ('american', ['a', 'great', 'in', 'whose']), ('in', ['great', 'american', 'whose', 'symbolic']), ('whose', ['american', 'in', 'symbolic', 'shadow']), ('symbolic', ['in', 'whose', 'shadow', 'we']), ('shadow', ['whose', 'symbolic', 'we', 'stand']), ('we', ['symbolic', 'shadow', 'stand', 'today']), ('stand', ['shadow', 'we', 'today', 'signed']), ('today', ['we', 'stand', 'signed', 'the']), ('signed', ['stand', 'today', 'the', 'emancipation']), ('the', ['today', 'signed', 'emancipation', 'proclamation']), ('emancipation', ['signed', 'the', 'proclamation', 'this']), ('proclamation', ['the', 'emancipation', 'this', 'momentous']), ('this', ['emancipation', 'proclamation', 'momentous', 'decree']), ('momentous', ['proclamation', 'this', 'decree', 'came']), ('decree', ['this', 'momentous', 'came', 'as']), ('came', ['momentous', 'decree', 'as', 'a']), ('as', ['decree', 'came', 'a', 'great']), ('a', ['came', 'as', 'great', 'beacon']), ('great', ['as', 'a', 'beacon', 'of']), ('beacon', ['a', 'great', 'of', 'hope']), ('of', ['great', 'beacon', 'hope', 'to']), ('hope', ['beacon', 'of', 'to', 'millions']), ('to', ['of', 'hope', 'millions', 'of']), ('millions', ['hope', 'to', 'of', 'slaves']), ('of', ['to', 'millions', 'slaves', 'who']), ('slaves', ['millions', 'of', 'who', 'had']), ('who', ['of', 'slaves', 'had', 'been']), ('had', ['slaves', 'who', 'been', 'seared']), ('been', ['who', 'had', 'seared', 'in']), ('seared', ['had', 'been', 'in', 'the']), ('in', ['been', 'seared', 'the', 'flames']), ('the', ['seared', 'in', 'flames', 'of']), ('flames', ['in', 'the', 'of', 'whithering']), ('of', ['the', 'flames', 'whithering', 'injustice']), ('whithering', ['flames', 'of', 'injustice', 'it']), ('injustice', ['of', 'whithering', 'it', 'came']), ('it', ['whithering', 'injustice', 'came', 'as']), ('came', ['injustice', 'it', 'as', 'a']), ('as', ['it', 'came', 'a', 'joyous']), ('a', ['came', 'as', 'joyous', 'daybreak']), ('joyous', ['as', 'a', 'daybreak', 'to']), ('daybreak', ['a', 'joyous', 'to', 'end']), ('to', ['joyous', 'daybreak', 'end', 'the']), ('end', ['daybreak', 'to', 'the', 'long']), ('the', ['to', 'end', 'long', 'night']), ('long', ['end', 'the', 'night', 'of']), ('night', ['the', 'long', 'of', 'their']), ('of', ['long', 'night', 'their', 'captivity']), ('their', ['night', 'of', 'captivity', 'but']), ('captivity', ['of', 'their', 'but', 'one']), ('but', ['their', 'captivity', 'one', 'hundred']), ('one', ['captivity', 'but', 'hundred', 'years']), ('hundred', ['but', 'one', 'years', 'later']), ('years', ['one', 'hundred', 'later', 'the']), ('later', ['hundred', 'years', 'the', 'colored']), ('the', ['years', 'later', 'colored', 'america']), ('colored', ['later', 'the', 'america', 'is']), ('america', ['the', 'colored', 'is', 'still']), ('is', ['colored', 'america', 'still', 'not']), ('still', ['america', 'is', 'not', 'free']), ('not', ['is', 'still', 'free', 'one']), ('free', ['still', 'not', 'one', 'hundred']), ('one', ['not', 'free', 'hundred', 'years']), ('hundred', ['free', 'one', 'years', 'later']), ('years', ['one', 'hundred', 'later', 'the']), ('later', ['hundred', 'years', 'the', 'life']), ('the', ['years', 'later', 'life', 'of']), ('life', ['later', 'the', 'of', 'the']), ('of', ['the', 'life', 'the', 'colored']), ('the', ['life', 'of', 'colored', 'american']), ('colored', ['of', 'the', 'american', 'is']), ('american', ['the', 'colored', 'is', 'still']), ('is', ['colored', 'american', 'still', 'sadly']), ('still', ['american', 'is', 'sadly', 'crippled']), ('sadly', ['is', 'still', 'crippled', 'by']), ('crippled', ['still', 'sadly', 'by', 'the']), ('by', ['sadly', 'crippled', 'the', 'manacle']), ('the', ['crippled', 'by', 'manacle', 'of']), ('manacle', ['by', 'the', 'of', 'segregation']), ('of', ['the', 'manacle', 'segregation', 'and']), ('segregation', ['manacle', 'of', 'and', 'the']), ('and', ['of', 'segregation', 'the', 'chains']), ('the', ['segregation', 'and', 'chains', 'of']), ('chains', ['and', 'the', 'of', 'discrimination']), ('of', ['the', 'chains', 'discrimination', 'one']), ('discrimination', ['chains', 'of', 'one', 'hundred']), ('one', ['of', 'discrimination', 'hundred', 'years']), ('hundred', ['discrimination', 'one', 'years', 'later']), ('years', ['one', 'hundred', 'later', 'the']), ('later', ['hundred', 'years', 'the', 'colored']), ('the', ['years', 'later', 'colored', 'american']), ('colored', ['later', 'the', 'american', 'lives']), ('american', ['the', 'colored', 'lives', 'on']), ('lives', ['colored', 'american', 'on', 'a']), ('on', ['american', 'lives', 'a', 'lonely']), ('a', ['lives', 'on', 'lonely', 'island']), ('lonely', ['on', 'a', 'island', 'of']), ('island', ['a', 'lonely', 'of', 'poverty']), ('of', ['lonely', 'island', 'poverty', 'in']), ('poverty', ['island', 'of', 'in', 'the']), ('in', ['of', 'poverty', 'the', 'midst']), ('the', ['poverty', 'in', 'midst', 'of']), ('midst', ['in', 'the', 'of', 'a']), ('of', ['the', 'midst', 'a', 'vast']), ('a', ['midst', 'of', 'vast', 'ocean']), ('vast', ['of', 'a', 'ocean', 'of']), ('ocean', ['a', 'vast', 'of', 'material']), ('of', ['vast', 'ocean', 'material', 'prosperity']), ('material', ['ocean', 'of', 'prosperity', 'one']), ('prosperity', ['of', 'material', 'one', 'hundred']), ('one', ['material', 'prosperity', 'hundred', 'years']), ('hundred', ['prosperity', 'one', 'years', 'later']), ('years', ['one', 'hundred', 'later', 'the']), ('later', ['hundred', 'years', 'the', 'colored']), ('the', ['years', 'later', 'colored', 'american']), ('colored', ['later', 'the', 'american', 'is']), ('american', ['the', 'colored', 'is', 'still']), ('is', ['colored', 'american', 'still', 'languishing']), ('still', ['american', 'is', 'languishing', 'in']), ('languishing', ['is', 'still', 'in', 'the']), ('in', ['still', 'languishing', 'the', 'corners']), ('the', ['languishing', 'in', 'corners', 'of']), ('corners', ['in', 'the', 'of', 'american']), ('of', ['the', 'corners', 'american', 'society']), ('american', ['corners', 'of', 'society', 'and']), ('society', ['of', 'american', 'and', 'finds']), ('and', ['american', 'society', 'finds', 'himself']), ('finds', ['society', 'and', 'himself', 'an']), ('himself', ['and', 'finds', 'an', 'exile']), ('an', ['finds', 'himself', 'exile', 'in']), ('exile', ['himself', 'an', 'in', 'his']), ('in', ['an', 'exile', 'his', 'own']), ('his', ['exile', 'in', 'own', 'land']), ('own', ['in', 'his', 'land', 'so']), ('land', ['his', 'own', 'so', 'we']), ('so', ['own', 'land', 'we', 'have']), ('we', ['land', 'so', 'have', 'come']), ('have', ['so', 'we', 'come', 'here']), ('come', ['we', 'have', 'here', 'today']), ('here', ['have', 'come', 'today', 'to']), ('today', ['come', 'here', 'to', 'dramatize']), ('to', ['here', 'today', 'dramatize', 'a']), ('dramatize', ['today', 'to', 'a', 'shameful']), ('a', ['to', 'dramatize', 'shameful', 'condition']), ('shameful', ['dramatize', 'a', 'condition', 'in']), ('condition', ['a', 'shameful', 'in', 'a']), ('in', ['shameful', 'condition', 'a', 'sense']), ('a', ['condition', 'in', 'sense', 'we']), ('sense', ['in', 'a', 'we', 'have']), ('we', ['a', 'sense', 'have', 'come']), ('have', ['sense', 'we', 'come', 'to']), ('come', ['we', 'have', 'to', 'our']), ('to', ['have', 'come', 'our', 'nations']), ('our', ['come', 'to', 'nations', 'capital']), ('nations', ['to', 'our', 'capital', 'to']), ('capital', ['our', 'nations', 'to', 'cash']), ('to', ['nations', 'capital', 'cash', 'a']), ('cash', ['capital', 'to', 'a', 'check']), ('a', ['to', 'cash', 'check', 'when']), ('check', ['cash', 'a', 'when', 'the']), ('when', ['a', 'check', 'the', 'architects']), ('the', ['check', 'when', 'architects', 'of']), ('architects', ['when', 'the', 'of', 'our']), ('of', ['the', 'architects', 'our', 'great']), ('our', ['architects', 'of', 'great', 'republic']), ('great', ['of', 'our', 'republic', 'wrote']), ('republic', ['our', 'great', 'wrote', 'the']), ('wrote', ['great', 'republic', 'the', 'magnificent']), ('the', ['republic', 'wrote', 'magnificent', 'words']), ('magnificent', ['wrote', 'the', 'words', 'of']), ('words', ['the', 'magnificent', 'of', 'the']), ('of', ['magnificent', 'words', 'the', 'constitution']), ('the', ['words', 'of', 'constitution', 'and']), ('constitution', ['of', 'the', 'and', 'the']), ('and', ['the', 'constitution', 'the', 'declaration']), ('the', ['constitution', 'and', 'declaration', 'of']), ('declaration', ['and', 'the', 'of', 'independence']), ('of', ['the', 'declaration', 'independence', 'they']), ('independence', ['declaration', 'of', 'they', 'were']), ('they', ['of', 'independence', 'were', 'signing']), ('were', ['independence', 'they', 'signing', 'a']), ('signing', ['they', 'were', 'a', 'promissory']), ('a', ['were', 'signing', 'promissory', 'note']), ('promissory', ['signing', 'a', 'note', 'to']), ('note', ['a', 'promissory', 'to', 'which']), ('to', ['promissory', 'note', 'which', 'every']), ('which', ['note', 'to', 'every', 'american']), ('every', ['to', 'which', 'american', 'was']), ('american', ['which', 'every', 'was', 'to']), ('was', ['every', 'american', 'to', 'fall']), ('to', ['american', 'was', 'fall', 'heir']), ('fall', ['was', 'to', 'heir', 'this']), ('heir', ['to', 'fall', 'this', 'note']), ('this', ['fall', 'heir', 'note', 'was']), ('note', ['heir', 'this', 'was', 'a']), ('was', ['this', 'note', 'a', 'promise']), ('a', ['note', 'was', 'promise', 'that']), ('promise', ['was', 'a', 'that', 'all']), ('that', ['a', 'promise', 'all', 'men']), ('all', ['promise', 'that', 'men', 'yes']), ('men', ['that', 'all', 'yes', 'black']), ('yes', ['all', 'men', 'black', 'men']), ('black', ['men', 'yes', 'men', 'as']), ('men', ['yes', 'black', 'as', 'well']), ('as', ['black', 'men', 'well', 'as']), ('well', ['men', 'as', 'as', 'white']), ('as', ['as', 'well', 'white', 'men']), ('white', ['well', 'as', 'men', 'would']), ('men', ['as', 'white', 'would', 'be']), ('would', ['white', 'men', 'be', 'guaranteed']), ('be', ['men', 'would', 'guaranteed', 'the']), ('guaranteed', ['would', 'be', 'the', 'inalienable']), ('the', ['be', 'guaranteed', 'inalienable', 'rights']), ('inalienable', ['guaranteed', 'the', 'rights', 'of']), ('rights', ['the', 'inalienable', 'of', 'life']), ('of', ['inalienable', 'rights', 'life', 'liberty']), ('life', ['rights', 'of', 'liberty', 'and']), ('liberty', ['of', 'life', 'and', 'the']), ('and', ['life', 'liberty', 'the', 'pursuit']), ('the', ['liberty', 'and', 'pursuit', 'of']), ('pursuit', ['and', 'the', 'of', 'happiness']), ('of', ['the', 'pursuit', 'happiness', 'it']), ('happiness', ['pursuit', 'of', 'it', 'is']), ('it', ['of', 'happiness', 'is', 'obvious']), ('is', ['happiness', 'it', 'obvious', 'today']), ('obvious', ['it', 'is', 'today', 'that']), ('today', ['is', 'obvious', 'that', 'america']), ('that', ['obvious', 'today', 'america', 'has']), ('america', ['today', 'that', 'has', 'defaulted']), ('has', ['that', 'america', 'defaulted', 'on']), ('defaulted', ['america', 'has', 'on', 'this']), ('on', ['has', 'defaulted', 'this', 'promissory']), ('this', ['defaulted', 'on', 'promissory', 'note']), ('promissory', ['on', 'this', 'note', 'insofar']), ('note', ['this', 'promissory', 'insofar', 'as']), ('insofar', ['promissory', 'note', 'as', 'her']), ('as', ['note', 'insofar', 'her', 'citizens']), ('her', ['insofar', 'as', 'citizens', 'of']), ('citizens', ['as', 'her', 'of', 'color']), ('of', ['her', 'citizens', 'color', 'are']), ('color', ['citizens', 'of', 'are', 'concerned']), ('are', ['of', 'color', 'concerned', 'instead']), ('concerned', ['color', 'are', 'instead', 'of']), ('instead', ['are', 'concerned', 'of', 'honoring']), ('of', ['concerned', 'instead', 'honoring', 'this']), ('honoring', ['instead', 'of', 'this', 'sacred']), ('this', ['of', 'honoring', 'sacred', 'obligation']), ('sacred', ['honoring', 'this', 'obligation', 'america']), ('obligation', ['this', 'sacred', 'america', 'has']), ('america', ['sacred', 'obligation', 'has', 'given']), ('has', ['obligation', 'america', 'given', 'its']), ('given', ['america', 'has', 'its', 'colored']), ('its', ['has', 'given', 'colored', 'people']), ('colored', ['given', 'its', 'people', 'a']), ('people', ['its', 'colored', 'a', 'bad']), ('a', ['colored', 'people', 'bad', 'check']), ('bad', ['people', 'a', 'check', 'a']), ('check', ['a', 'bad', 'a', 'check']), ('a', ['bad', 'check', 'check', 'that']), ('check', ['check', 'a', 'that', 'has']), ('that', ['a', 'check', 'has', 'come']), ('has', ['check', 'that', 'come', 'back']), ('come', ['that', 'has', 'back', 'marked']), ('back', ['has', 'come', 'marked', 'insufficient']), ('marked', ['come', 'back', 'insufficient', 'funds']), ('insufficient', ['back', 'marked', 'funds', 'but']), ('funds', ['marked', 'insufficient', 'but', 'we']), ('but', ['insufficient', 'funds', 'we', 'refuse']), ('we', ['funds', 'but', 'refuse', 'to']), ('refuse', ['but', 'we', 'to', 'believe']), ('to', ['we', 'refuse', 'believe', 'that']), ('believe', ['refuse', 'to', 'that', 'the']), ('that', ['to', 'believe', 'the', 'bank']), ('the', ['believe', 'that', 'bank', 'of']), ('bank', ['that', 'the', 'of', 'justice']), ('of', ['the', 'bank', 'justice', 'is']), ('justice', ['bank', 'of', 'is', 'bankrupt']), ('is', ['of', 'justice', 'bankrupt', 'we']), ('bankrupt', ['justice', 'is', 'we', 'refuse']), ('we', ['is', 'bankrupt', 'refuse', 'to']), ('refuse', ['bankrupt', 'we', 'to', 'believe']), ('to', ['we', 'refuse', 'believe', 'that']), ('believe', ['refuse', 'to', 'that', 'there']), ('that', ['to', 'believe', 'there', 'are']), ('there', ['believe', 'that', 'are', 'insufficient']), ('are', ['that', 'there', 'insufficient', 'funds']), ('insufficient', ['there', 'are', 'funds', 'in']), ('funds', ['are', 'insufficient', 'in', 'the']), ('in', ['insufficient', 'funds', 'the', 'great']), ('the', ['funds', 'in', 'great', 'vaults']), ('great', ['in', 'the', 'vaults', 'of']), ('vaults', ['the', 'great', 'of', 'opportunity']), ('of', ['great', 'vaults', 'opportunity', 'of']), ('opportunity', ['vaults', 'of', 'of', 'this']), ('of', ['of', 'opportunity', 'this', 'nation']), ('this', ['opportunity', 'of', 'nation', 'so']), ('nation', ['of', 'this', 'so', 'we']), ('so', ['this', 'nation', 'we', 'have']), ('we', ['nation', 'so', 'have', 'come']), ('have', ['so', 'we', 'come', 'to']), ('come', ['we', 'have', 'to', 'cash']), ('to', ['have', 'come', 'cash', 'this']), ('cash', ['come', 'to', 'this', 'check']), ('this', ['to', 'cash', 'check', 'a']), ('check', ['cash', 'this', 'a', 'check']), ('a', ['this', 'check', 'check', 'that']), ('check', ['check', 'a', 'that', 'will']), ('that', ['a', 'check', 'will', 'give']), ('will', ['check', 'that', 'give', 'us']), ('give', ['that', 'will', 'us', 'upon']), ('us', ['will', 'give', 'upon', 'demand']), ('upon', ['give', 'us', 'demand', 'the']), ('demand', ['us', 'upon', 'the', 'riches']), ('the', ['upon', 'demand', 'riches', 'of']), ('riches', ['demand', 'the', 'of', 'freedom']), ('of', ['the', 'riches', 'freedom', 'and']), ('freedom', ['riches', 'of', 'and', 'security']), ('and', ['of', 'freedom', 'security', 'of']), ('security', ['freedom', 'and', 'of', 'justice']), ('of', ['and', 'security', 'justice', 'we']), ('justice', ['security', 'of', 'we', 'have']), ('we', ['of', 'justice', 'have', 'also']), ('have', ['justice', 'we', 'also', 'come']), ('also', ['we', 'have', 'come', 'to']), ('come', ['have', 'also', 'to', 'his']), ('to', ['also', 'come', 'his', 'hallowed']), ('his', ['come', 'to', 'hallowed', 'spot']), ('hallowed', ['to', 'his', 'spot', 'to']), ('spot', ['his', 'hallowed', 'to', 'remind']), ('to', ['hallowed', 'spot', 'remind', 'america']), ('remind', ['spot', 'to', 'america', 'of']), ('america', ['to', 'remind', 'of', 'the']), ('of', ['remind', 'america', 'the', 'fierce']), ('the', ['america', 'of', 'fierce', 'urgency']), ('fierce', ['of', 'the', 'urgency', 'of']), ('urgency', ['the', 'fierce', 'of', 'now']), ('of', ['fierce', 'urgency', 'now', 'this']), ('now', ['urgency', 'of', 'this', 'is']), ('this', ['of', 'now', 'is', 'not']), ('is', ['now', 'this', 'not', 'time']), ('not', ['this', 'is', 'time', 'to']), ('time', ['is', 'not', 'to', 'engage']), ('to', ['not', 'time', 'engage', 'in']), ('engage', ['time', 'to', 'in', 'the']), ('in', ['to', 'engage', 'the', 'luxury']), ('the', ['engage', 'in', 'luxury', 'of']), ('luxury', ['in', 'the', 'of', 'cooling']), ('of', ['the', 'luxury', 'cooling', 'off']), ('cooling', ['luxury', 'of', 'off', 'or']), ('off', ['of', 'cooling', 'or', 'to']), ('or', ['cooling', 'off', 'to', 'take']), ('to', ['off', 'or', 'take', 'the']), ('take', ['or', 'to', 'the', 'tranquilizing']), ('the', ['to', 'take', 'tranquilizing', 'drug']), ('tranquilizing', ['take', 'the', 'drug', 'of']), ('drug', ['the', 'tranquilizing', 'of', 'gradualism']), ('of', ['tranquilizing', 'drug', 'gradualism', 'now']), ('gradualism', ['drug', 'of', 'now', 'is']), ('now', ['of', 'gradualism', 'is', 'the']), ('is', ['gradualism', 'now', 'the', 'time']), ('the', ['now', 'is', 'time', 'to']), ('time', ['is', 'the', 'to', 'make']), ('to', ['the', 'time', 'make', 'real']), ('make', ['time', 'to', 'real', 'the']), ('real', ['to', 'make', 'the', 'promise']), ('the', ['make', 'real', 'promise', 'of']), ('promise', ['real', 'the', 'of', 'democracy']), ('of', ['the', 'promise', 'democracy', 'now']), ('democracy', ['promise', 'of', 'now', 'it']), ('now', ['of', 'democracy', 'it', 'the']), ('it', ['democracy', 'now', 'the', 'time']), ('the', ['now', 'it', 'time', 'to']), ('time', ['it', 'the', 'to', 'rise']), ('to', ['the', 'time', 'rise', 'from']), ('rise', ['time', 'to', 'from', 'the']), ('from', ['to', 'rise', 'the', 'dark']), ('the', ['rise', 'from', 'dark', 'and']), ('dark', ['from', 'the', 'and', 'desolate']), ('and', ['the', 'dark', 'desolate', 'valley']), ('desolate', ['dark', 'and', 'valley', 'of']), ('valley', ['and', 'desolate', 'of', 'segregation']), ('of', ['desolate', 'valley', 'segregation', 'to']), ('segregation', ['valley', 'of', 'to', 'the']), ('to', ['of', 'segregation', 'the', 'sunlit']), ('the', ['segregation', 'to', 'sunlit', 'path']), ('sunlit', ['to', 'the', 'path', 'of']), ('path', ['the', 'sunlit', 'of', 'racial']), ('of', ['sunlit', 'path', 'racial', 'justice']), ('racial', ['path', 'of', 'justice', 'now']), ('justice', ['of', 'racial', 'now', 'it']), ('now', ['racial', 'justice', 'it', 'the']), ('it', ['justice', 'now', 'the', 'time']), ('the', ['now', 'it', 'time', 'to']), ('time', ['it', 'the', 'to', 'lift']), ('to', ['the', 'time', 'lift', 'our']), ('lift', ['time', 'to', 'our', 'nation']), ('our', ['to', 'lift', 'nation', 'from']), ('nation', ['lift', 'our', 'from', 'the']), ('from', ['our', 'nation', 'the', 'quicksand']), ('the', ['nation', 'from', 'quicksand', 'of']), ('quicksand', ['from', 'the', 'of', 'racial']), ('of', ['the', 'quicksand', 'racial', 'injustice']), ('racial', ['quicksand', 'of', 'injustice', 'to']), ('injustice', ['of', 'racial', 'to', 'the']), ('to', ['racial', 'injustice', 'the', 'solid']), ('the', ['injustice', 'to', 'solid', 'rock']), ('solid', ['to', 'the', 'rock', 'of']), ('rock', ['the', 'solid', 'of', 'brotherhood']), ('of', ['solid', 'rock', 'brotherhood', 'now']), ('brotherhood', ['rock', 'of', 'now', 'is']), ('now', ['of', 'brotherhood', 'is', 'the']), ('is', ['brotherhood', 'now', 'the', 'time']), ('the', ['now', 'is', 'time', 'to']), ('time', ['is', 'the', 'to', 'make']), ('to', ['the', 'time', 'make', 'justice']), ('make', ['time', 'to', 'justice', 'a']), ('justice', ['to', 'make', 'a', 'reality']), ('a', ['make', 'justice', 'reality', 'to']), ('reality', ['justice', 'a', 'to', 'all']), ('to', ['a', 'reality', 'all', 'of']), ('all', ['reality', 'to', 'of', 'gods']), ('of', ['to', 'all', 'gods', 'children']), ('gods', ['all', 'of', 'children', 'i']), ('children', ['of', 'gods', 'i', 'would']), ('i', ['gods', 'children', 'would', 'be']), ('would', ['children', 'i', 'be', 'fatal']), ('be', ['i', 'would', 'fatal', 'for']), ('fatal', ['would', 'be', 'for', 'the']), ('for', ['be', 'fatal', 'the', 'nation']), ('the', ['fatal', 'for', 'nation', 'to']), ('nation', ['for', 'the', 'to', 'overlook']), ('to', ['the', 'nation', 'overlook', 'the']), ('overlook', ['nation', 'to', 'the', 'urgency']), ('the', ['to', 'overlook', 'urgency', 'of']), ('urgency', ['overlook', 'the', 'of', 'the']), ('of', ['the', 'urgency', 'the', 'moment']), ('the', ['urgency', 'of', 'moment', 'and']), ('moment', ['of', 'the', 'and', 'to']), ('and', ['the', 'moment', 'to', 'underestimate']), ('to', ['moment', 'and', 'underestimate', 'the']), ('underestimate', ['and', 'to', 'the', 'determination']), ('the', ['to', 'underestimate', 'determination', 'of']), ('determination', ['underestimate', 'the', 'of', 'its']), ('of', ['the', 'determination', 'its', 'colored']), ('its', ['determination', 'of', 'colored', 'citizens']), ('colored', ['of', 'its', 'citizens', 'this']), ('citizens', ['its', 'colored', 'this', 'sweltering']), ('this', ['colored', 'citizens', 'sweltering', 'summer']), ('sweltering', ['citizens', 'this', 'summer', 'of']), ('summer', ['this', 'sweltering', 'of', 'the']), ('of', ['sweltering', 'summer', 'the', 'colored']), ('the', ['summer', 'of', 'colored', 'peoples']), ('colored', ['of', 'the', 'peoples', 'legitimate']), ('peoples', ['the', 'colored', 'legitimate', 'discontent']), ('legitimate', ['colored', 'peoples', 'discontent', 'will']), ('discontent', ['peoples', 'legitimate', 'will', 'not']), ('will', ['legitimate', 'discontent', 'not', 'pass']), ('not', ['discontent', 'will', 'pass', 'until']), ('pass', ['will', 'not', 'until', 'there']), ('until', ['not', 'pass', 'there', 'is']), ('there', ['pass', 'until', 'is', 'an']), ('is', ['until', 'there', 'an', 'invigorating']), ('an', ['there', 'is', 'invigorating', 'autumn']), ('invigorating', ['is', 'an', 'autumn', 'of']), ('autumn', ['an', 'invigorating', 'of', 'freedom']), ('of', ['invigorating', 'autumn', 'freedom', 'and']), ('freedom', ['autumn', 'of', 'and', 'equality']), ('and', ['of', 'freedom', 'equality', 'nineteen']), ('equality', ['freedom', 'and', 'nineteen', 'sixtythree']), ('nineteen', ['and', 'equality', 'sixtythree', 'is']), ('sixtythree', ['equality', 'nineteen', 'is', 'not']), ('is', ['nineteen', 'sixtythree', 'not', 'an']), ('not', ['sixtythree', 'is', 'an', 'end']), ('an', ['is', 'not', 'end', 'but']), ('end', ['not', 'an', 'but', 'a']), ('but', ['an', 'end', 'a', 'beginning']), ('a', ['end', 'but', 'beginning', 'those']), ('beginning', ['but', 'a', 'those', 'who']), ('those', ['a', 'beginning', 'who', 'hope']), ('who', ['beginning', 'those', 'hope', 'that']), ('hope', ['those', 'who', 'that', 'the']), ('that', ['who', 'hope', 'the', 'colored']), ('the', ['hope', 'that', 'colored', 'americans']), ('colored', ['that', 'the', 'americans', 'needed']), ('americans', ['the', 'colored', 'needed', 'to']), ('needed', ['colored', 'americans', 'to', 'blow']), ('to', ['americans', 'needed', 'blow', 'off']), ('blow', ['needed', 'to', 'off', 'steam']), ('off', ['to', 'blow', 'steam', 'and']), ('steam', ['blow', 'off', 'and', 'will']), ('and', ['off', 'steam', 'will', 'now']), ('will', ['steam', 'and', 'now', 'be']), ('now', ['and', 'will', 'be', 'content']), ('be', ['will', 'now', 'content', 'will']), ('content', ['now', 'be', 'will', 'have']), ('will', ['be', 'content', 'have', 'a']), ('have', ['content', 'will', 'a', 'rude']), ('a', ['will', 'have', 'rude', 'awakening']), ('rude', ['have', 'a', 'awakening', 'if']), ('awakening', ['a', 'rude', 'if', 'the']), ('if', ['rude', 'awakening', 'the', 'nation']), ('the', ['awakening', 'if', 'nation', 'returns']), ('nation', ['if', 'the', 'returns', 'to']), ('returns', ['the', 'nation', 'to', 'business']), ('to', ['nation', 'returns', 'business', 'as']), ('business', ['returns', 'to', 'as', 'usual']), ('as', ['to', 'business', 'usual', 'there']), ('usual', ['business', 'as', 'there', 'will']), ('there', ['as', 'usual', 'will', 'be']), ('will', ['usual', 'there', 'be', 'neither']), ('be', ['there', 'will', 'neither', 'rest']), ('neither', ['will', 'be', 'rest', 'nor']), ('rest', ['be', 'neither', 'nor', 'tranquility']), ('nor', ['neither', 'rest', 'tranquility', 'in']), ('tranquility', ['rest', 'nor', 'in', 'america']), ('in', ['nor', 'tranquility', 'america', 'until']), ('america', ['tranquility', 'in', 'until', 'the']), ('until', ['in', 'america', 'the', 'colored']), ('the', ['america', 'until', 'colored', 'citizen']), ('colored', ['until', 'the', 'citizen', 'is']), ('citizen', ['the', 'colored', 'is', 'granted']), ('is', ['colored', 'citizen', 'granted', 'his']), ('granted', ['citizen', 'is', 'his', 'citizenship']), ('his', ['is', 'granted', 'citizenship', 'rights']), ('citizenship', ['granted', 'his', 'rights', 'the']), ('rights', ['his', 'citizenship', 'the', 'whirlwinds']), ('the', ['citizenship', 'rights', 'whirlwinds', 'of']), ('whirlwinds', ['rights', 'the', 'of', 'revolt']), ('of', ['the', 'whirlwinds', 'revolt', 'will']), ('revolt', ['whirlwinds', 'of', 'will', 'continue']), ('will', ['of', 'revolt', 'continue', 'to']), ('continue', ['revolt', 'will', 'to', 'shake']), ('to', ['will', 'continue', 'shake', 'the']), ('shake', ['continue', 'to', 'the', 'foundations']), ('the', ['to', 'shake', 'foundations', 'of']), ('foundations', ['shake', 'the', 'of', 'our']), ('of', ['the', 'foundations', 'our', 'nation']), ('our', ['foundations', 'of', 'nation', 'until']), ('nation', ['of', 'our', 'until', 'the']), ('until', ['our', 'nation', 'the', 'bright']), ('the', ['nation', 'until', 'bright', 'day']), ('bright', ['until', 'the', 'day', 'of']), ('day', ['the', 'bright', 'of', 'justice']), ('of', ['bright', 'day', 'justice', 'emerges']), ('justice', ['day', 'of', 'emerges', 'we']), ('emerges', ['of', 'justice', 'we', 'can']), ('we', ['justice', 'emerges', 'can', 'never']), ('can', ['emerges', 'we', 'never', 'be']), ('never', ['we', 'can', 'be', 'satisfied']), ('be', ['can', 'never', 'satisfied', 'as']), ('satisfied', ['never', 'be', 'as', 'long']), ('as', ['be', 'satisfied', 'long', 'as']), ('long', ['satisfied', 'as', 'as', 'our']), ('as', ['as', 'long', 'our', 'bodies']), ('our', ['long', 'as', 'bodies', 'heavy']), ('bodies', ['as', 'our', 'heavy', 'with']), ('heavy', ['our', 'bodies', 'with', 'the']), ('with', ['bodies', 'heavy', 'the', 'fatigue']), ('the', ['heavy', 'with', 'fatigue', 'of']), ('fatigue', ['with', 'the', 'of', 'travel']), ('of', ['the', 'fatigue', 'travel', 'cannot']), ('travel', ['fatigue', 'of', 'cannot', 'gain']), ('cannot', ['of', 'travel', 'gain', 'lodging']), ('gain', ['travel', 'cannot', 'lodging', 'in']), ('lodging', ['cannot', 'gain', 'in', 'the']), ('in', ['gain', 'lodging', 'the', 'motels']), ('the', ['lodging', 'in', 'motels', 'of']), ('motels', ['in', 'the', 'of', 'the']), ('of', ['the', 'motels', 'the', 'highways']), ('the', ['motels', 'of', 'highways', 'and']), ('highways', ['of', 'the', 'and', 'the']), ('and', ['the', 'highways', 'the', 'hotels']), ('the', ['highways', 'and', 'hotels', 'of']), ('hotels', ['and', 'the', 'of', 'the']), ('of', ['the', 'hotels', 'the', 'cities']), ('the', ['hotels', 'of', 'cities', 'we']), ('cities', ['of', 'the', 'we', 'cannot']), ('we', ['the', 'cities', 'cannot', 'be']), ('cannot', ['cities', 'we', 'be', 'satisfied']), ('be', ['we', 'cannot', 'satisfied', 'as']), ('satisfied', ['cannot', 'be', 'as', 'long']), ('as', ['be', 'satisfied', 'long', 'as']), ('long', ['satisfied', 'as', 'as', 'the']), ('as', ['as', 'long', 'the', 'colored']), ('the', ['long', 'as', 'colored', 'persons']), ('colored', ['as', 'the', 'persons', 'basic']), ('persons', ['the', 'colored', 'basic', 'mobility']), ('basic', ['colored', 'persons', 'mobility', 'is']), ('mobility', ['persons', 'basic', 'is', 'from']), ('is', ['basic', 'mobility', 'from', 'a']), ('from', ['mobility', 'is', 'a', 'smaller']), ('a', ['is', 'from', 'smaller', 'ghetto']), ('smaller', ['from', 'a', 'ghetto', 'to']), ('ghetto', ['a', 'smaller', 'to', 'a']), ('to', ['smaller', 'ghetto', 'a', 'larger']), ('a', ['ghetto', 'to', 'larger', 'one']), ('larger', ['to', 'a', 'one', 'we']), ('one', ['a', 'larger', 'we', 'can']), ('we', ['larger', 'one', 'can', 'never']), ('can', ['one', 'we', 'never', 'be']), ('never', ['we', 'can', 'be', 'satisfied']), ('be', ['can', 'never', 'satisfied', 'as']), ('satisfied', ['never', 'be', 'as', 'long']), ('as', ['be', 'satisfied', 'long', 'as']), ('long', ['satisfied', 'as', 'as', 'our']), ('as', ['as', 'long', 'our', 'children']), ('our', ['long', 'as', 'children', 'are']), ('children', ['as', 'our', 'are', 'stripped']), ('are', ['our', 'children', 'stripped', 'of']), ('stripped', ['children', 'are', 'of', 'their']), ('of', ['are', 'stripped', 'their', 'selfhood']), ('their', ['stripped', 'of', 'selfhood', 'and']), ('selfhood', ['of', 'their', 'and', 'robbed']), ('and', ['their', 'selfhood', 'robbed', 'of']), ('robbed', ['selfhood', 'and', 'of', 'their']), ('of', ['and', 'robbed', 'their', 'dignity']), ('their', ['robbed', 'of', 'dignity', 'by']), ('dignity', ['of', 'their', 'by', 'signs']), ('by', ['their', 'dignity', 'signs', 'stating']), ('signs', ['dignity', 'by', 'stating', 'for']), ('stating', ['by', 'signs', 'for', 'white']), ('for', ['signs', 'stating', 'white', 'only']), ('white', ['stating', 'for', 'only', 'we']), ('only', ['for', 'white', 'we', 'cannot']), ('we', ['white', 'only', 'cannot', 'be']), ('cannot', ['only', 'we', 'be', 'satisfied']), ('be', ['we', 'cannot', 'satisfied', 'as']), ('satisfied', ['cannot', 'be', 'as', 'long']), ('as', ['be', 'satisfied', 'long', 'as']), ('long', ['satisfied', 'as', 'as', 'a']), ('as', ['as', 'long', 'a', 'colored']), ('a', ['long', 'as', 'colored', 'person']), ('colored', ['as', 'a', 'person', 'in']), ('person', ['a', 'colored', 'in', 'mississippi']), ('in', ['colored', 'person', 'mississippi', 'cannot']), ('mississippi', ['person', 'in', 'cannot', 'vote']), ('cannot', ['in', 'mississippi', 'vote', 'and']), ('vote', ['mississippi', 'cannot', 'and', 'a']), ('and', ['cannot', 'vote', 'a', 'colored']), ('a', ['vote', 'and', 'colored', 'person']), ('colored', ['and', 'a', 'person', 'in']), ('person', ['a', 'colored', 'in', 'new']), ('in', ['colored', 'person', 'new', 'york']), ('new', ['person', 'in', 'york', 'believes']), ('york', ['in', 'new', 'believes', 'he']), ('believes', ['new', 'york', 'he', 'has']), ('he', ['york', 'believes', 'has', 'nothing']), ('has', ['believes', 'he', 'nothing', 'for']), ('nothing', ['he', 'has', 'for', 'which']), ('for', ['has', 'nothing', 'which', 'to']), ('which', ['nothing', 'for', 'to', 'vote']), ('to', ['for', 'which', 'vote', 'no']), ('vote', ['which', 'to', 'no', 'no']), ('no', ['to', 'vote', 'no', 'we']), ('no', ['vote', 'no', 'we', 'are']), ('we', ['no', 'no', 'are', 'not']), ('are', ['no', 'we', 'not', 'satisfied']), ('not', ['we', 'are', 'satisfied', 'and']), ('satisfied', ['are', 'not', 'and', 'we']), ('and', ['not', 'satisfied', 'we', 'will']), ('we', ['satisfied', 'and', 'will', 'not']), ('will', ['and', 'we', 'not', 'be']), ('not', ['we', 'will', 'be', 'satisfied']), ('be', ['will', 'not', 'satisfied', 'until']), ('satisfied', ['not', 'be', 'until', 'justice']), ('until', ['be', 'satisfied', 'justice', 'rolls']), ('justice', ['satisfied', 'until', 'rolls', 'down']), ('rolls', ['until', 'justice', 'down', 'like']), ('down', ['justice', 'rolls', 'like', 'waters']), ('like', ['rolls', 'down', 'waters', 'and']), ('waters', ['down', 'like', 'and', 'righteousness']), ('and', ['like', 'waters', 'righteousness', 'like']), ('righteousness', ['waters', 'and', 'like', 'a']), ('like', ['and', 'righteousness', 'a', 'mighty']), ('a', ['righteousness', 'like', 'mighty', 'stream']), ('mighty', ['like', 'a', 'stream', 'i']), ('stream', ['a', 'mighty', 'i', 'am']), ('i', ['mighty', 'stream', 'am', 'not']), ('am', ['stream', 'i', 'not', 'unmindful']), ('not', ['i', 'am', 'unmindful', 'that']), ('unmindful', ['am', 'not', 'that', 'some']), ('that', ['not', 'unmindful', 'some', 'of']), ('some', ['unmindful', 'that', 'of', 'you']), ('of', ['that', 'some', 'you', 'have']), ('you', ['some', 'of', 'have', 'come']), ('have', ['of', 'you', 'come', 'here']), ('come', ['you', 'have', 'here', 'out']), ('here', ['have', 'come', 'out', 'of']), ('out', ['come', 'here', 'of', 'your']), ('of', ['here', 'out', 'your', 'trials']), ('your', ['out', 'of', 'trials', 'and']), ('trials', ['of', 'your', 'and', 'tribulations']), ('and', ['your', 'trials', 'tribulations', 'some']), ('tribulations', ['trials', 'and', 'some', 'of']), ('some', ['and', 'tribulations', 'of', 'you']), ('of', ['tribulations', 'some', 'you', 'have']), ('you', ['some', 'of', 'have', 'come']), ('have', ['of', 'you', 'come', 'from']), ('come', ['you', 'have', 'from', 'areas']), ('from', ['have', 'come', 'areas', 'where']), ('areas', ['come', 'from', 'where', 'your']), ('where', ['from', 'areas', 'your', 'quest']), ('your', ['areas', 'where', 'quest', 'for']), ('quest', ['where', 'your', 'for', 'freedom']), ('for', ['your', 'quest', 'freedom', 'left']), ('freedom', ['quest', 'for', 'left', 'you']), ('left', ['for', 'freedom', 'you', 'battered']), ('you', ['freedom', 'left', 'battered', 'by']), ('battered', ['left', 'you', 'by', 'storms']), ('by', ['you', 'battered', 'storms', 'of']), ('storms', ['battered', 'by', 'of', 'persecutions']), ('of', ['by', 'storms', 'persecutions', 'and']), ('persecutions', ['storms', 'of', 'and', 'staggered']), ('and', ['of', 'persecutions', 'staggered', 'by']), ('staggered', ['persecutions', 'and', 'by', 'the']), ('by', ['and', 'staggered', 'the', 'winds']), ('the', ['staggered', 'by', 'winds', 'of']), ('winds', ['by', 'the', 'of', 'police']), ('of', ['the', 'winds', 'police', 'brutality']), ('police', ['winds', 'of', 'brutality', 'you']), ('brutality', ['of', 'police', 'you', 'have']), ('you', ['police', 'brutality', 'have', 'been']), ('have', ['brutality', 'you', 'been', 'the']), ('been', ['you', 'have', 'the', 'veterans']), ('the', ['have', 'been', 'veterans', 'of']), ('veterans', ['been', 'the', 'of', 'creative']), ('of', ['the', 'veterans', 'creative', 'suffering']), ('creative', ['veterans', 'of', 'suffering', 'continue']), ('suffering', ['of', 'creative', 'continue', 'to']), ('continue', ['creative', 'suffering', 'to', 'work']), ('to', ['suffering', 'continue', 'work', 'with']), ('work', ['continue', 'to', 'with', 'the']), ('with', ['to', 'work', 'the', 'faith']), ('the', ['work', 'with', 'faith', 'that']), ('faith', ['with', 'the', 'that', 'unearned']), ('that', ['the', 'faith', 'unearned', 'suffering']), ('unearned', ['faith', 'that', 'suffering', 'is']), ('suffering', ['that', 'unearned', 'is', 'redemptive']), ('is', ['unearned', 'suffering', 'redemptive', 'go']), ('redemptive', ['suffering', 'is', 'go', 'back']), ('go', ['is', 'redemptive', 'back', 'to']), ('back', ['redemptive', 'go', 'to', 'mississippi']), ('to', ['go', 'back', 'mississippi', 'go']), ('mississippi', ['back', 'to', 'go', 'back']), ('go', ['to', 'mississippi', 'back', 'to']), ('back', ['mississippi', 'go', 'to', 'alabama']), ('to', ['go', 'back', 'alabama', 'go']), ('alabama', ['back', 'to', 'go', 'back']), ('go', ['to', 'alabama', 'back', 'to']), ('back', ['alabama', 'go', 'to', 'south']), ('to', ['go', 'back', 'south', 'carolina']), ('south', ['back', 'to', 'carolina', 'go']), ('carolina', ['to', 'south', 'go', 'back']), ('go', ['south', 'carolina', 'back', 'to']), ('back', ['carolina', 'go', 'to', 'georgia']), ('to', ['go', 'back', 'georgia', 'go']), ('georgia', ['back', 'to', 'go', 'back']), ('go', ['to', 'georgia', 'back', 'to']), ('back', ['georgia', 'go', 'to', 'louisiana']), ('to', ['go', 'back', 'louisiana', 'go']), ('louisiana', ['back', 'to', 'go', 'back']), ('go', ['to', 'louisiana', 'back', 'to']), ('back', ['louisiana', 'go', 'to', 'the']), ('to', ['go', 'back', 'the', 'slums']), ('the', ['back', 'to', 'slums', 'and']), ('slums', ['to', 'the', 'and', 'ghettos']), ('and', ['the', 'slums', 'ghettos', 'of']), ('ghettos', ['slums', 'and', 'of', 'our']), ('of', ['and', 'ghettos', 'our', 'modern']), ('our', ['ghettos', 'of', 'modern', 'cities']), ('modern', ['of', 'our', 'cities', 'knowing']), ('cities', ['our', 'modern', 'knowing', 'that']), ('knowing', ['modern', 'cities', 'that', 'somehow']), ('that', ['cities', 'knowing', 'somehow', 'this']), ('somehow', ['knowing', 'that', 'this', 'situation']), ('this', ['that', 'somehow', 'situation', 'can']), ('situation', ['somehow', 'this', 'can', 'and']), ('can', ['this', 'situation', 'and', 'will']), ('and', ['situation', 'can', 'will', 'be']), ('will', ['can', 'and', 'be', 'changed']), ('be', ['and', 'will', 'changed', 'let']), ('changed', ['will', 'be', 'let', 'us']), ('let', ['be', 'changed', 'us', 'not']), ('us', ['changed', 'let', 'not', 'wallow']), ('not', ['let', 'us', 'wallow', 'in']), ('wallow', ['us', 'not', 'in', 'the']), ('in', ['not', 'wallow', 'the', 'valley']), ('the', ['wallow', 'in', 'valley', 'of']), ('valley', ['in', 'the', 'of', 'despair']), ('of', ['the', 'valley', 'despair', 'i']), ('despair', ['valley', 'of', 'i', 'say']), ('i', ['of', 'despair', 'say', 'to']), ('say', ['despair', 'i', 'to', 'you']), ('to', ['i', 'say', 'you', 'my']), ('you', ['say', 'to', 'my', 'friends']), ('my', ['to', 'you', 'friends', 'we']), ('friends', ['you', 'my', 'we', 'have']), ('we', ['my', 'friends', 'have', 'the']), ('have', ['friends', 'we', 'the', 'difficulties']), ('the', ['we', 'have', 'difficulties', 'of']), ('difficulties', ['have', 'the', 'of', 'today']), ('of', ['the', 'difficulties', 'today', 'and']), ('today', ['difficulties', 'of', 'and', 'tomorrow']), ('and', ['of', 'today', 'tomorrow', 'i']), ('tomorrow', ['today', 'and', 'i', 'still']), ('i', ['and', 'tomorrow', 'still', 'have']), ('still', ['tomorrow', 'i', 'have', 'a']), ('have', ['i', 'still', 'a', 'dream']), ('a', ['still', 'have', 'dream', 'it']), ('dream', ['have', 'a', 'it', 'is']), ('it', ['a', 'dream', 'is', 'a']), ('is', ['dream', 'it', 'a', 'dream']), ('a', ['it', 'is', 'dream', 'deeply']), ('dream', ['is', 'a', 'deeply', 'rooted']), ('deeply', ['a', 'dream', 'rooted', 'in']), ('rooted', ['dream', 'deeply', 'in', 'the']), ('in', ['deeply', 'rooted', 'the', 'american']), ('the', ['rooted', 'in', 'american', 'dream']), ('american', ['in', 'the', 'dream', 'i']), ('dream', ['the', 'american', 'i', 'have']), ('i', ['american', 'dream', 'have', 'a']), ('have', ['dream', 'i', 'a', 'dream']), ('a', ['i', 'have', 'dream', 'that']), ('dream', ['have', 'a', 'that', 'one']), ('that', ['a', 'dream', 'one', 'day']), ('one', ['dream', 'that', 'day', 'this']), ('day', ['that', 'one', 'this', 'nation']), ('this', ['one', 'day', 'nation', 'will']), ('nation', ['day', 'this', 'will', 'rise']), ('will', ['this', 'nation', 'rise', 'up']), ('rise', ['nation', 'will', 'up', 'and']), ('up', ['will', 'rise', 'and', 'live']), ('and', ['rise', 'up', 'live', 'out']), ('live', ['up', 'and', 'out', 'the']), ('out', ['and', 'live', 'the', 'true']), ('the', ['live', 'out', 'true', 'meaning']), ('true', ['out', 'the', 'meaning', 'of']), ('meaning', ['the', 'true', 'of', 'its']), ('of', ['true', 'meaning', 'its', 'creed']), ('its', ['meaning', 'of', 'creed', 'we']), ('creed', ['of', 'its', 'we', 'hold']), ('we', ['its', 'creed', 'hold', 'these']), ('hold', ['creed', 'we', 'these', 'truths']), ('these', ['we', 'hold', 'truths', 'to']), ('truths', ['hold', 'these', 'to', 'be']), ('to', ['these', 'truths', 'be', 'selfevident']), ('be', ['truths', 'to', 'selfevident', 'that']), ('selfevident', ['to', 'be', 'that', 'all']), ('that', ['be', 'selfevident', 'all', 'men']), ('all', ['selfevident', 'that', 'men', 'are']), ('men', ['that', 'all', 'are', 'created']), ('are', ['all', 'men', 'created', 'equal']), ('created', ['men', 'are', 'equal', 'i']), ('equal', ['are', 'created', 'i', 'have']), ('i', ['created', 'equal', 'have', 'a']), ('have', ['equal', 'i', 'a', 'dream']), ('a', ['i', 'have', 'dream', 'that']), ('dream', ['have', 'a', 'that', 'one']), ('that', ['a', 'dream', 'one', 'day']), ('one', ['dream', 'that', 'day', 'out']), ('day', ['that', 'one', 'out', 'in']), ('out', ['one', 'day', 'in', 'the']), ('in', ['day', 'out', 'the', 'red']), ('the', ['out', 'in', 'red', 'hills']), ('red', ['in', 'the', 'hills', 'of']), ('hills', ['the', 'red', 'of', 'georgia']), ('of', ['red', 'hills', 'georgia', 'the']), ('georgia', ['hills', 'of', 'the', 'sons']), ('the', ['of', 'georgia', 'sons', 'of']), ('sons', ['georgia', 'the', 'of', 'former']), ('of', ['the', 'sons', 'former', 'slaves']), ('former', ['sons', 'of', 'slaves', 'and']), ('slaves', ['of', 'former', 'and', 'the']), ('and', ['former', 'slaves', 'the', 'sons']), ('the', ['slaves', 'and', 'sons', 'of']), ('sons', ['and', 'the', 'of', 'former']), ('of', ['the', 'sons', 'former', 'slaveowners']), ('former', ['sons', 'of', 'slaveowners', 'will']), ('slaveowners', ['of', 'former', 'will', 'be']), ('will', ['former', 'slaveowners', 'be', 'able']), ('be', ['slaveowners', 'will', 'able', 'to']), ('able', ['will', 'be', 'to', 'sit']), ('to', ['be', 'able', 'sit', 'down']), ('sit', ['able', 'to', 'down', 'together']), ('down', ['to', 'sit', 'together', 'at']), ('together', ['sit', 'down', 'at', 'the']), ('at', ['down', 'together', 'the', 'table']), ('the', ['together', 'at', 'table', 'of']), ('table', ['at', 'the', 'of', 'brotherhood']), ('of', ['the', 'table', 'brotherhood', 'i']), ('brotherhood', ['table', 'of', 'i', 'have']), ('i', ['of', 'brotherhood', 'have', 'a']), ('have', ['brotherhood', 'i', 'a', 'dream']), ('a', ['i', 'have', 'dream', 'that']), ('dream', ['have', 'a', 'that', 'one']), ('that', ['a', 'dream', 'one', 'day']), ('one', ['dream', 'that', 'day', 'even']), ('day', ['that', 'one', 'even', 'the']), ('even', ['one', 'day', 'the', 'state']), ('the', ['day', 'even', 'state', 'of']), ('state', ['even', 'the', 'of', 'mississippi']), ('of', ['the', 'state', 'mississippi', 'a']), ('mississippi', ['state', 'of', 'a', 'state']), ('a', ['of', 'mississippi', 'state', 'sweltering']), ('state', ['mississippi', 'a', 'sweltering', 'with']), ('sweltering', ['a', 'state', 'with', 'the']), ('with', ['state', 'sweltering', 'the', 'heat']), ('the', ['sweltering', 'with', 'heat', 'of']), ('heat', ['with', 'the', 'of', 'oppression']), ('of', ['the', 'heat', 'oppression', 'will']), ('oppression', ['heat', 'of', 'will', 'be']), ('will', ['of', 'oppression', 'be', 'transformed']), ('be', ['oppression', 'will', 'transformed', 'into']), ('transformed', ['will', 'be', 'into', 'an']), ('into', ['be', 'transformed', 'an', 'oasis']), ('an', ['transformed', 'into', 'oasis', 'of']), ('oasis', ['into', 'an', 'of', 'freedom']), ('of', ['an', 'oasis', 'freedom', 'and']), ('freedom', ['oasis', 'of', 'and', 'justice']), ('and', ['of', 'freedom', 'justice', 'i']), ('justice', ['freedom', 'and', 'i', 'have']), ('i', ['and', 'justice', 'have', 'a']), ('have', ['justice', 'i', 'a', 'dream']), ('a', ['i', 'have', 'dream', 'that']), ('dream', ['have', 'a', 'that', 'my']), ('that', ['a', 'dream', 'my', 'four']), ('my', ['dream', 'that', 'four', 'little']), ('four', ['that', 'my', 'little', 'children']), ('little', ['my', 'four', 'children', 'will']), ('children', ['four', 'little', 'will', 'one']), ('will', ['little', 'children', 'one', 'day']), ('one', ['children', 'will', 'day', 'live']), ('day', ['will', 'one', 'live', 'in']), ('live', ['one', 'day', 'in', 'a']), ('in', ['day', 'live', 'a', 'nation']), ('a', ['live', 'in', 'nation', 'where']), ('nation', ['in', 'a', 'where', 'they']), ('where', ['a', 'nation', 'they', 'will']), ('they', ['nation', 'where', 'will', 'not']), ('will', ['where', 'they', 'not', 'be']), ('not', ['they', 'will', 'be', 'judged']), ('be', ['will', 'not', 'judged', 'by']), ('judged', ['not', 'be', 'by', 'the']), ('by', ['be', 'judged', 'the', 'color']), ('the', ['judged', 'by', 'color', 'of']), ('color', ['by', 'the', 'of', 'their']), ('of', ['the', 'color', 'their', 'skin']), ('their', ['color', 'of', 'skin', 'but']), ('skin', ['of', 'their', 'but', 'by']), ('but', ['their', 'skin', 'by', 'their']), ('by', ['skin', 'but', 'their', 'character']), ('their', ['but', 'by', 'character', 'i']), ('character', ['by', 'their', 'i', 'have']), ('i', ['their', 'character', 'have', 'a']), ('have', ['character', 'i', 'a', 'dream']), ('a', ['i', 'have', 'dream', 'today']), ('dream', ['have', 'a', 'today', 'i']), ('today', ['a', 'dream', 'i', 'have']), ('i', ['dream', 'today', 'have', 'a']), ('have', ['today', 'i', 'a', 'dream']), ('a', ['i', 'have', 'dream', 'that']), ('dream', ['have', 'a', 'that', 'one']), ('that', ['a', 'dream', 'one', 'day']), ('one', ['dream', 'that', 'day', 'down']), ('day', ['that', 'one', 'down', 'in']), ('down', ['one', 'day', 'in', 'alabama']), ('in', ['day', 'down', 'alabama', 'with']), ('alabama', ['down', 'in', 'with', 'its']), ('with', ['in', 'alabama', 'its', 'vicious']), ('its', ['alabama', 'with', 'vicious', 'racists']), ('vicious', ['with', 'its', 'racists', 'with']), ('racists', ['its', 'vicious', 'with', 'its']), ('with', ['vicious', 'racists', 'its', 'governor']), ('its', ['racists', 'with', 'governor', 'having']), ('governor', ['with', 'its', 'having', 'his']), ('having', ['its', 'governor', 'his', 'lips']), ('his', ['governor', 'having', 'lips', 'dripping']), ('lips', ['having', 'his', 'dripping', 'with']), ('dripping', ['his', 'lips', 'with', 'the']), ('with', ['lips', 'dripping', 'the', 'words']), ('the', ['dripping', 'with', 'words', 'of']), ('words', ['with', 'the', 'of', 'interposition']), ('of', ['the', 'words', 'interposition', 'and']), ('interposition', ['words', 'of', 'and', 'nullification']), ('and', ['of', 'interposition', 'nullification', 'that']), ('nullification', ['interposition', 'and', 'that', 'one']), ('that', ['and', 'nullification', 'one', 'day']), ('one', ['nullification', 'that', 'day', 'right']), ('day', ['that', 'one', 'right', 'down']), ('right', ['one', 'day', 'down', 'in']), ('down', ['day', 'right', 'in', 'alabama']), ('in', ['right', 'down', 'alabama', 'little']), ('alabama', ['down', 'in', 'little', 'black']), ('little', ['in', 'alabama', 'black', 'boys']), ('black', ['alabama', 'little', 'boys', 'and']), ('boys', ['little', 'black', 'and', 'black']), ('and', ['black', 'boys', 'black', 'girls']), ('black', ['boys', 'and', 'girls', 'will']), ('girls', ['and', 'black', 'will', 'be']), ('will', ['black', 'girls', 'be', 'able']), ('be', ['girls', 'will', 'able', 'to']), ('able', ['will', 'be', 'to', 'join']), ('to', ['be', 'able', 'join', 'hands']), ('join', ['able', 'to', 'hands', 'with']), ('hands', ['to', 'join', 'with', 'little']), ('with', ['join', 'hands', 'little', 'white']), ('little', ['hands', 'with', 'white', 'boys']), ('white', ['with', 'little', 'boys', 'and']), ('boys', ['little', 'white', 'and', 'white']), ('and', ['white', 'boys', 'white', 'girls']), ('white', ['boys', 'and', 'girls', 'as']), ('girls', ['and', 'white', 'as', 'sisters']), ('as', ['white', 'girls', 'sisters', 'and']), ('sisters', ['girls', 'as', 'and', 'brothers']), ('and', ['as', 'sisters', 'brothers', 'i']), ('brothers', ['sisters', 'and', 'i', 'have']), ('i', ['and', 'brothers', 'have', 'a']), ('have', ['brothers', 'i', 'a', 'dream']), ('a', ['i', 'have', 'dream', 'today']), ('dream', ['have', 'a', 'today', 'i']), ('today', ['a', 'dream', 'i', 'have']), ('i', ['dream', 'today', 'have', 'a']), ('have', ['today', 'i', 'a', 'dream']), ('a', ['i', 'have', 'dream', 'that']), ('dream', ['have', 'a', 'that', 'one']), ('that', ['a', 'dream', 'one', 'day']), ('one', ['dream', 'that', 'day', 'every']), ('day', ['that', 'one', 'every', 'valley']), ('every', ['one', 'day', 'valley', 'shall']), ('valley', ['day', 'every', 'shall', 'be']), ('shall', ['every', 'valley', 'be', 'engulfed']), ('be', ['valley', 'shall', 'engulfed', 'every']), ('engulfed', ['shall', 'be', 'every', 'hill']), ('every', ['be', 'engulfed', 'hill', 'shall']), ('hill', ['engulfed', 'every', 'shall', 'be']), ('shall', ['every', 'hill', 'be', 'exalted']), ('be', ['hill', 'shall', 'exalted', 'and']), ('exalted', ['shall', 'be', 'and', 'every']), ('and', ['be', 'exalted', 'every', 'mountain']), ('every', ['exalted', 'and', 'mountain', 'shall']), ('mountain', ['and', 'every', 'shall', 'be']), ('shall', ['every', 'mountain', 'be', 'made']), ('be', ['mountain', 'shall', 'made', 'low']), ('made', ['shall', 'be', 'low', 'the']), ('low', ['be', 'made', 'the', 'rough']), ('the', ['made', 'low', 'rough', 'places']), ('rough', ['low', 'the', 'places', 'will']), ('places', ['the', 'rough', 'will', 'be']), ('will', ['rough', 'places', 'be', 'made']), ('be', ['places', 'will', 'made', 'plains']), ('made', ['will', 'be', 'plains', 'and']), ('plains', ['be', 'made', 'and', 'the']), ('and', ['made', 'plains', 'the', 'crooked']), ('the', ['plains', 'and', 'crooked', 'places']), ('crooked', ['and', 'the', 'places', 'will']), ('places', ['the', 'crooked', 'will', 'be']), ('will', ['crooked', 'places', 'be', 'made']), ('be', ['places', 'will', 'made', 'straight']), ('made', ['will', 'be', 'straight', 'and']), ('straight', ['be', 'made', 'and', 'the']), ('and', ['made', 'straight', 'the', 'glory']), ('the', ['straight', 'and', 'glory', 'of']), ('glory', ['and', 'the', 'of', 'the']), ('of', ['the', 'glory', 'the', 'lord']), ('the', ['glory', 'of', 'lord', 'shall']), ('lord', ['of', 'the', 'shall', 'be']), ('shall', ['the', 'lord', 'be', 'revealed']), ('be', ['lord', 'shall', 'revealed', 'and']), ('revealed', ['shall', 'be', 'and', 'all']), ('and', ['be', 'revealed', 'all', 'flesh']), ('all', ['revealed', 'and', 'flesh', 'shall']), ('flesh', ['and', 'all', 'shall', 'see']), ('shall', ['all', 'flesh', 'see', 'it']), ('see', ['flesh', 'shall', 'it', 'together']), ('it', ['shall', 'see', 'together', 'this']), ('together', ['see', 'it', 'this', 'is']), ('this', ['it', 'together', 'is', 'our']), ('is', ['together', 'this', 'our', 'hope']), ('our', ['this', 'is', 'hope', 'this']), ('hope', ['is', 'our', 'this', 'is']), ('this', ['our', 'hope', 'is', 'the']), ('is', ['hope', 'this', 'the', 'faith']), ('the', ['this', 'is', 'faith', 'that']), ('faith', ['is', 'the', 'that', 'i']), ('that', ['the', 'faith', 'i', 'will']), ('i', ['faith', 'that', 'will', 'go']), ('will', ['that', 'i', 'go', 'back']), ('go', ['i', 'will', 'back', 'to']), ('back', ['will', 'go', 'to', 'the']), ('to', ['go', 'back', 'the', 'south']), ('the', ['back', 'to', 'south', 'with']), ('south', ['to', 'the', 'with', 'with']), ('with', ['the', 'south', 'with', 'this']), ('with', ['south', 'with', 'this', 'faith']), ('this', ['with', 'with', 'faith', 'we']), ('faith', ['with', 'this', 'we', 'will']), ('we', ['this', 'faith', 'will', 'be']), ('will', ['faith', 'we', 'be', 'able']), ('be', ['we', 'will', 'able', 'to']), ('able', ['will', 'be', 'to', 'hew']), ('to', ['be', 'able', 'hew', 'out']), ('hew', ['able', 'to', 'out', 'of']), ('out', ['to', 'hew', 'of', 'the']), ('of', ['hew', 'out', 'the', 'mountain']), ('the', ['out', 'of', 'mountain', 'of']), ('mountain', ['of', 'the', 'of', 'despair']), ('of', ['the', 'mountain', 'despair', 'a']), ('despair', ['mountain', 'of', 'a', 'stone']), ('a', ['of', 'despair', 'stone', 'of']), ('stone', ['despair', 'a', 'of', 'hope']), ('of', ['a', 'stone', 'hope', 'with']), ('hope', ['stone', 'of', 'with', 'this']), ('with', ['of', 'hope', 'this', 'faith']), ('this', ['hope', 'with', 'faith', 'we']), ('faith', ['with', 'this', 'we', 'will']), ('we', ['this', 'faith', 'will', 'be']), ('will', ['faith', 'we', 'be', 'able']), ('be', ['we', 'will', 'able', 'to']), ('able', ['will', 'be', 'to', 'transform']), ('to', ['be', 'able', 'transform', 'the']), ('transform', ['able', 'to', 'the', 'jangling']), ('the', ['to', 'transform', 'jangling', 'discords']), ('jangling', ['transform', 'the', 'discords', 'of']), ('discords', ['the', 'jangling', 'of', 'our']), ('of', ['jangling', 'discords', 'our', 'nation']), ('our', ['discords', 'of', 'nation', 'into']), ('nation', ['of', 'our', 'into', 'a']), ('into', ['our', 'nation', 'a', 'beautiful']), ('a', ['nation', 'into', 'beautiful', 'symphony']), ('beautiful', ['into', 'a', 'symphony', 'of']), ('symphony', ['a', 'beautiful', 'of', 'brotherhood']), ('of', ['beautiful', 'symphony', 'brotherhood', 'with']), ('brotherhood', ['symphony', 'of', 'with', 'this']), ('with', ['of', 'brotherhood', 'this', 'faith']), ('this', ['brotherhood', 'with', 'faith', 'we']), ('faith', ['with', 'this', 'we', 'will']), ('we', ['this', 'faith', 'will', 'be']), ('will', ['faith', 'we', 'be', 'able']), ('be', ['we', 'will', 'able', 'to']), ('able', ['will', 'be', 'to', 'work']), ('to', ['be', 'able', 'work', 'together']), ('work', ['able', 'to', 'together', 'to']), ('together', ['to', 'work', 'to', 'pray']), ('to', ['work', 'together', 'pray', 'together']), ('pray', ['together', 'to', 'together', 'to']), ('together', ['to', 'pray', 'to', 'struggle']), ('to', ['pray', 'together', 'struggle', 'together']), ('struggle', ['together', 'to', 'together', 'to']), ('together', ['to', 'struggle', 'to', 'go']), ('to', ['struggle', 'together', 'go', 'to']), ('go', ['together', 'to', 'to', 'jail']), ('to', ['to', 'go', 'jail', 'together']), ('jail', ['go', 'to', 'together', 'to']), ('together', ['to', 'jail', 'to', 'climb']), ('to', ['jail', 'together', 'climb', 'up']), ('climb', ['together', 'to', 'up', 'for']), ('up', ['to', 'climb', 'for', 'freedom']), ('for', ['climb', 'up', 'freedom', 'together']), ('freedom', ['up', 'for', 'together', 'knowing']), ('together', ['for', 'freedom', 'knowing', 'that']), ('knowing', ['freedom', 'together', 'that', 'we']), ('that', ['together', 'knowing', 'we', 'will']), ('we', ['knowing', 'that', 'will', 'be']), ('will', ['that', 'we', 'be', 'free']), ('be', ['we', 'will', 'free', 'one']), ('free', ['will', 'be', 'one', 'day']), ('one', ['be', 'free', 'day', 'this']), ('day', ['free', 'one', 'this', 'will']), ('this', ['one', 'day', 'will', 'be']), ('will', ['day', 'this', 'be', 'the']), ('be', ['this', 'will', 'the', 'day']), ('the', ['will', 'be', 'day', 'when']), ('day', ['be', 'the', 'when', 'all']), ('when', ['the', 'day', 'all', 'of']), ('all', ['day', 'when', 'of', 'gods']), ('of', ['when', 'all', 'gods', 'children']), ('gods', ['all', 'of', 'children', 'will']), ('children', ['of', 'gods', 'will', 'be']), ('will', ['gods', 'children', 'be', 'able']), ('be', ['children', 'will', 'able', 'to']), ('able', ['will', 'be', 'to', 'sing']), ('to', ['be', 'able', 'sing', 'with']), ('sing', ['able', 'to', 'with', 'new']), ('with', ['to', 'sing', 'new', 'meaning']), ('new', ['sing', 'with', 'meaning', 'my']), ('meaning', ['with', 'new', 'my', 'country']), ('my', ['new', 'meaning', 'country', 'tis']), ('country', ['meaning', 'my', 'tis', 'of']), ('tis', ['my', 'country', 'of', 'thee']), ('of', ['country', 'tis', 'thee', 'sweet']), ('thee', ['tis', 'of', 'sweet', 'land']), ('sweet', ['of', 'thee', 'land', 'of']), ('land', ['thee', 'sweet', 'of', 'liberty']), ('of', ['sweet', 'land', 'liberty', 'of']), ('liberty', ['land', 'of', 'of', 'thee']), ('of', ['of', 'liberty', 'thee', 'i']), ('thee', ['liberty', 'of', 'i', 'sing']), ('i', ['of', 'thee', 'sing', 'land']), ('sing', ['thee', 'i', 'land', 'where']), ('land', ['i', 'sing', 'where', 'my']), ('where', ['sing', 'land', 'my', 'fathers']), ('my', ['land', 'where', 'fathers', 'died']), ('fathers', ['where', 'my', 'died', 'land']), ('died', ['my', 'fathers', 'land', 'of']), ('land', ['fathers', 'died', 'of', 'the']), ('of', ['died', 'land', 'the', 'pilgrims']), ('the', ['land', 'of', 'pilgrims', 'pride']), ('pilgrims', ['of', 'the', 'pride', 'from']), ('pride', ['the', 'pilgrims', 'from', 'every']), ('from', ['pilgrims', 'pride', 'every', 'mountainside']), ('every', ['pride', 'from', 'mountainside', 'let']), ('mountainside', ['from', 'every', 'let', 'freedom']), ('let', ['every', 'mountainside', 'freedom', 'ring']), ('freedom', ['mountainside', 'let', 'ring', 'and']), ('ring', ['let', 'freedom', 'and', 'if']), ('and', ['freedom', 'ring', 'if', 'america']), ('if', ['ring', 'and', 'america', 'is']), ('america', ['and', 'if', 'is', 'to']), ('is', ['if', 'america', 'to', 'be']), ('to', ['america', 'is', 'be', 'a']), ('be', ['is', 'to', 'a', 'great']), ('a', ['to', 'be', 'great', 'nation']), ('great', ['be', 'a', 'nation', 'this']), ('nation', ['a', 'great', 'this', 'must']), ('this', ['great', 'nation', 'must', 'become']), ('must', ['nation', 'this', 'become', 'true']), ('become', ['this', 'must', 'true', 'so']), ('true', ['must', 'become', 'so', 'let']), ('so', ['become', 'true', 'let', 'freedom']), ('let', ['true', 'so', 'freedom', 'ring']), ('freedom', ['so', 'let', 'ring', 'from']), ('ring', ['let', 'freedom', 'from', 'the']), ('from', ['freedom', 'ring', 'the', 'hilltops']), ('the', ['ring', 'from', 'hilltops', 'of']), ('hilltops', ['from', 'the', 'of', 'new']), ('of', ['the', 'hilltops', 'new', 'hampshire']), ('new', ['hilltops', 'of', 'hampshire', 'let']), ('hampshire', ['of', 'new', 'let', 'freedom']), ('let', ['new', 'hampshire', 'freedom', 'ring']), ('freedom', ['hampshire', 'let', 'ring', 'from']), ('ring', ['let', 'freedom', 'from', 'the']), ('from', ['freedom', 'ring', 'the', 'mighty']), ('the', ['ring', 'from', 'mighty', 'mountains']), ('mighty', ['from', 'the', 'mountains', 'of']), ('mountains', ['the', 'mighty', 'of', 'new']), ('of', ['mighty', 'mountains', 'new', 'york']), ('new', ['mountains', 'of', 'york', 'let']), ('york', ['of', 'new', 'let', 'freedom']), ('let', ['new', 'york', 'freedom', 'ring']), ('freedom', ['york', 'let', 'ring', 'from']), ('ring', ['let', 'freedom', 'from', 'the']), ('from', ['freedom', 'ring', 'the', 'heightening']), ('the', ['ring', 'from', 'heightening', 'alleghenies']), ('heightening', ['from', 'the', 'alleghenies', 'of']), ('alleghenies', ['the', 'heightening', 'of', 'pennsylvania']), ('of', ['heightening', 'alleghenies', 'pennsylvania', 'let']), ('pennsylvania', ['alleghenies', 'of', 'let', 'freedom']), ('let', ['of', 'pennsylvania', 'freedom', 'ring']), ('freedom', ['pennsylvania', 'let', 'ring', 'from']), ('ring', ['let', 'freedom', 'from', 'the']), ('from', ['freedom', 'ring', 'the', 'snowcapped']), ('the', ['ring', 'from', 'snowcapped', 'rockies']), ('snowcapped', ['from', 'the', 'rockies', 'of']), ('rockies', ['the', 'snowcapped', 'of', 'colorado']), ('of', ['snowcapped', 'rockies', 'colorado', 'let']), ('colorado', ['rockies', 'of', 'let', 'freedom']), ('let', ['of', 'colorado', 'freedom', 'ring']), ('freedom', ['colorado', 'let', 'ring', 'from']), ('ring', ['let', 'freedom', 'from', 'the']), ('from', ['freedom', 'ring', 'the', 'curvaceous']), ('the', ['ring', 'from', 'curvaceous', 'slopes']), ('curvaceous', ['from', 'the', 'slopes', 'of']), ('slopes', ['the', 'curvaceous', 'of', 'california']), ('of', ['curvaceous', 'slopes', 'california', 'but']), ('california', ['slopes', 'of', 'but', 'not']), ('but', ['of', 'california', 'not', 'only']), ('not', ['california', 'but', 'only', 'that']), ('only', ['but', 'not', 'that', 'let']), ('that', ['not', 'only', 'let', 'freedom']), ('let', ['only', 'that', 'freedom', 'ring']), ('freedom', ['that', 'let', 'ring', 'from']), ('ring', ['let', 'freedom', 'from', 'stone']), ('from', ['freedom', 'ring', 'stone', 'mountain']), ('stone', ['ring', 'from', 'mountain', 'of']), ('mountain', ['from', 'stone', 'of', 'georgia']), ('of', ['stone', 'mountain', 'georgia', 'let']), ('georgia', ['mountain', 'of', 'let', 'freedom']), ('let', ['of', 'georgia', 'freedom', 'ring']), ('freedom', ['georgia', 'let', 'ring', 'from']), ('ring', ['let', 'freedom', 'from', 'every']), ('from', ['freedom', 'ring', 'every', 'hill']), ('every', ['ring', 'from', 'hill', 'and']), ('hill', ['from', 'every', 'and', 'molehill']), ('and', ['every', 'hill', 'molehill', 'of']), ('molehill', ['hill', 'and', 'of', 'mississippi']), ('of', ['and', 'molehill', 'mississippi', 'and']), ('mississippi', ['molehill', 'of', 'and', 'every']), ('and', ['of', 'mississippi', 'every', 'mountainside']), ('every', ['mississippi', 'and', 'mountainside', 'when']), ('mountainside', ['and', 'every', 'when', 'we']), ('when', ['every', 'mountainside', 'we', 'let']), ('we', ['mountainside', 'when', 'let', 'freedom']), ('let', ['when', 'we', 'freedom', 'ring']), ('freedom', ['we', 'let', 'ring', 'when']), ('ring', ['let', 'freedom', 'when', 'we']), ('when', ['freedom', 'ring', 'we', 'let']), ('we', ['ring', 'when', 'let', 'it']), ('let', ['when', 'we', 'it', 'ring']), ('it', ['we', 'let', 'ring', 'from']), ('ring', ['let', 'it', 'from', 'every']), ('from', ['it', 'ring', 'every', 'tenement']), ('every', ['ring', 'from', 'tenement', 'and']), ('tenement', ['from', 'every', 'and', 'every']), ('and', ['every', 'tenement', 'every', 'hamlet']), ('every', ['tenement', 'and', 'hamlet', 'from']), ('hamlet', ['and', 'every', 'from', 'every']), ('from', ['every', 'hamlet', 'every', 'state']), ('every', ['hamlet', 'from', 'state', 'and']), ('state', ['from', 'every', 'and', 'every']), ('and', ['every', 'state', 'every', 'city']), ('every', ['state', 'and', 'city', 'we']), ('city', ['and', 'every', 'we', 'will']), ('we', ['every', 'city', 'will', 'be']), ('will', ['city', 'we', 'be', 'able']), ('be', ['we', 'will', 'able', 'to']), ('able', ['will', 'be', 'to', 'speed']), ('to', ['be', 'able', 'speed', 'up']), ('speed', ['able', 'to', 'up', 'that']), ('up', ['to', 'speed', 'that', 'day']), ('that', ['speed', 'up', 'day', 'when']), ('day', ['up', 'that', 'when', 'all']), ('when', ['that', 'day', 'all', 'of']), ('all', ['day', 'when', 'of', 'gods']), ('of', ['when', 'all', 'gods', 'children']), ('gods', ['all', 'of', 'children', 'black']), ('children', ['of', 'gods', 'black', 'men']), ('black', ['gods', 'children', 'men', 'and']), ('men', ['children', 'black', 'and', 'white']), ('and', ['black', 'men', 'white', 'men']), ('white', ['men', 'and', 'men', 'jews']), ('men', ['and', 'white', 'jews', 'and']), ('jews', ['white', 'men', 'and', 'gentiles']), ('and', ['men', 'jews', 'gentiles', 'protestants']), ('gentiles', ['jews', 'and', 'protestants', 'and']), ('protestants', ['and', 'gentiles', 'and', 'catholics']), ('and', ['gentiles', 'protestants', 'catholics', 'will']), ('catholics', ['protestants', 'and', 'will', 'be']), ('will', ['and', 'catholics', 'be', 'able']), ('be', ['catholics', 'will', 'able', 'to']), ('able', ['will', 'be', 'to', 'join']), ('to', ['be', 'able', 'join', 'hands']), ('join', ['able', 'to', 'hands', 'and']), ('hands', ['to', 'join', 'and', 'sing']), ('and', ['join', 'hands', 'sing', 'in']), ('sing', ['hands', 'and', 'in', 'the']), ('in', ['and', 'sing', 'the', 'words']), ('the', ['sing', 'in', 'words', 'of']), ('words', ['in', 'the', 'of', 'the']), ('of', ['the', 'words', 'the', 'old']), ('the', ['words', 'of', 'old', 'spiritual']), ('old', ['of', 'the', 'spiritual', 'free']), ('spiritual', ['the', 'old', 'free', 'at']), ('free', ['old', 'spiritual', 'at', 'last']), ('at', ['spiritual', 'free', 'last', 'free']), ('last', ['free', 'at', 'free', 'at']), ('free', ['at', 'last', 'at', 'last']), ('at', ['last', 'free', 'last', 'thank']), ('last', ['free', 'at', 'thank', 'god']), ('thank', ['at', 'last', 'god', 'almighty']), ('god', ['last', 'thank', 'almighty', 'we']), ('almighty', ['thank', 'god', 'we', 'are']), ('we', ['god', 'almighty', 'are', 'free']), ('are', ['almighty', 'we', 'free', 'at']), ('free', ['we', 'are', 'at', 'last'])]\n"
     ]
    }
   ],
   "source": [
    "print(data)"
   ]
  },
  {
   "cell_type": "code",
   "execution_count": 12,
   "id": "golden-tokyo",
   "metadata": {},
   "outputs": [],
   "source": [
    "def words_to_tensor(words: list, word2index: dict, dtype = torch.FloatTensor):\n",
    "    \"\"\"\n",
    "    This fucntion converts a word or a list of words into a torch tensor,\n",
    "    with appropriate format.\n",
    "    It reuses the word2index dictionary.\n",
    "    \"\"\"\n",
    "    tensor =  dtype([word2index[word] for word in words])\n",
    "    tensor = tensor.cuda()\n",
    "    \n",
    "    return Variable(tensor)"
   ]
  },
  {
   "cell_type": "markdown",
   "id": "destroyed-excuse",
   "metadata": {},
   "source": [
    "### Step 2. Create a SkipGram model and train\n",
    "\n",
    "Task #1: Write your own model for the SkipGram model below."
   ]
  },
  {
   "cell_type": "code",
   "execution_count": 13,
   "id": "higher-kentucky",
   "metadata": {},
   "outputs": [],
   "source": [
    "class SkipGram(nn.Module):\n",
    "    \"\"\"\n",
    "    Your skipgram model here!\n",
    "    \"\"\"\n",
    "    \n",
    "    def __init__(self, context_size, embedding_dim, vocab_size):\n",
    "        super(SkipGram, self).__init__()\n",
    "        self.total_neighbors = 2 * context_size\n",
    "        self.embeddings = nn.Embedding(vocab_size, embedding_dim)\n",
    "        self.linear1 = nn.Linear(embedding_dim, 512)\n",
    "        self.linear2 = nn.Linear(512, self.total_neighbors * vocab_size)\n",
    "\n",
    "    def forward(self, inputs):\n",
    "        embeds = self.embeddings(inputs).view((1, -1))\n",
    "        output = F.relu(self.linear1(embeds))\n",
    "        output = self.linear2(output)\n",
    "        log_probs = F.log_softmax(output, dim=1).view(self.total_neighbors, -1)\n",
    "        return log_probs"
   ]
  },
  {
   "cell_type": "code",
   "execution_count": 14,
   "id": "civilian-tongue",
   "metadata": {
    "scrolled": true
   },
   "outputs": [
    {
     "data": {
      "text/plain": [
       "SkipGram(\n",
       "  (embeddings): Embedding(467, 20)\n",
       "  (linear1): Linear(in_features=20, out_features=512, bias=True)\n",
       "  (linear2): Linear(in_features=512, out_features=1868, bias=True)\n",
       ")"
      ]
     },
     "execution_count": 14,
     "metadata": {},
     "output_type": "execute_result"
    }
   ],
   "source": [
    "# Create model and pass to CUDA\n",
    "context_size = 2\n",
    "model = SkipGram(context_size = context_size, embedding_dim = 20, vocab_size = len(vocab))\n",
    "model = model.cuda()\n",
    "model.train()"
   ]
  },
  {
   "cell_type": "code",
   "execution_count": 15,
   "id": "swiss-directive",
   "metadata": {},
   "outputs": [],
   "source": [
    "# Define training parameters\n",
    "learning_rate = 0.001\n",
    "epochs = 300 # <- CUSTOM EPOCH\n",
    "torch.manual_seed(28)\n",
    "loss_function = nn.NLLLoss()\n",
    "optimizer = optim.SGD(model.parameters(), lr = learning_rate)"
   ]
  },
  {
   "cell_type": "code",
   "execution_count": 16,
   "id": "behavioral-smell",
   "metadata": {},
   "outputs": [],
   "source": [
    "def get_prediction(target, model, word2index):\n",
    "    \"\"\"\n",
    "    This is a helper function to get log probs and prediction indexes from model.\n",
    "    \"\"\"\n",
    "    tensor_target = torch.tensor(word2index[target], dtype=torch.long).cuda()\n",
    "    log_probs = model(tensor_target)\n",
    "    context_pred_idxs = log_probs.argmax(dim=1, keepdim=True)\n",
    "    return log_probs, context_pred_idxs.squeeze().tolist()"
   ]
  },
  {
   "cell_type": "markdown",
   "id": "unlikely-arcade",
   "metadata": {},
   "source": [
    "Task #2: Write your own training function for the SkipGram model in the cell below. It should return a list of losses and accuracies for display later on, along with your trained model. You may also write a helper function for computing the accuracy of your model during training."
   ]
  },
  {
   "cell_type": "code",
   "execution_count": 17,
   "id": "periodic-native",
   "metadata": {
    "scrolled": false
   },
   "outputs": [
    {
     "name": "stdout",
     "output_type": "stream",
     "text": [
      "Epoch 0: Accuracy = 0.064 Loss = 7.477917604344595\n",
      "Epoch 1: Accuracy = 0.116 Loss = 7.292670212945904\n",
      "Epoch 2: Accuracy = 0.112 Loss = 7.127611689380903\n",
      "Epoch 3: Accuracy = 0.111 Loss = 6.993345310849227\n",
      "Epoch 4: Accuracy = 0.112 Loss = 6.887997459601677\n",
      "Epoch 5: Accuracy = 0.115 Loss = 6.802183051126283\n",
      "Epoch 6: Accuracy = 0.121 Loss = 6.728959598405505\n",
      "Epoch 7: Accuracy = 0.131 Loss = 6.664303091327491\n",
      "Epoch 8: Accuracy = 0.136 Loss = 6.606063589591573\n",
      "Epoch 9: Accuracy = 0.142 Loss = 6.552941310448155\n",
      "Epoch 10: Accuracy = 0.15 Loss = 6.503987601134276\n",
      "Epoch 11: Accuracy = 0.153 Loss = 6.4584621935128315\n",
      "Epoch 12: Accuracy = 0.158 Loss = 6.41578482716109\n",
      "Epoch 13: Accuracy = 0.161 Loss = 6.375497330804737\n",
      "Epoch 14: Accuracy = 0.161 Loss = 6.337260790142724\n",
      "Epoch 15: Accuracy = 0.165 Loss = 6.300814490810408\n",
      "Epoch 16: Accuracy = 0.172 Loss = 6.265964886471894\n",
      "Epoch 17: Accuracy = 0.179 Loss = 6.2325431555615625\n",
      "Epoch 18: Accuracy = 0.185 Loss = 6.2004063663957805\n",
      "Epoch 19: Accuracy = 0.186 Loss = 6.169434559981594\n",
      "Epoch 20: Accuracy = 0.191 Loss = 6.139518445921114\n",
      "Epoch 21: Accuracy = 0.196 Loss = 6.11056343516421\n",
      "Epoch 22: Accuracy = 0.203 Loss = 6.082472715343869\n",
      "Epoch 23: Accuracy = 0.207 Loss = 6.055157841821583\n",
      "Epoch 24: Accuracy = 0.208 Loss = 6.028540128320985\n",
      "Epoch 25: Accuracy = 0.21 Loss = 6.00255698648636\n",
      "Epoch 26: Accuracy = 0.212 Loss = 5.977146209601406\n",
      "Epoch 27: Accuracy = 0.214 Loss = 5.952261350163361\n",
      "Epoch 28: Accuracy = 0.214 Loss = 5.927859911630162\n",
      "Epoch 29: Accuracy = 0.215 Loss = 5.903894780623955\n",
      "Epoch 30: Accuracy = 0.216 Loss = 5.880328364389222\n",
      "Epoch 31: Accuracy = 0.217 Loss = 5.857130444855876\n",
      "Epoch 32: Accuracy = 0.218 Loss = 5.834271029475745\n",
      "Epoch 33: Accuracy = 0.219 Loss = 5.811724952785994\n",
      "Epoch 34: Accuracy = 0.22 Loss = 5.789471543980663\n",
      "Epoch 35: Accuracy = 0.223 Loss = 5.767489149052902\n",
      "Epoch 36: Accuracy = 0.225 Loss = 5.74576053229091\n",
      "Epoch 37: Accuracy = 0.228 Loss = 5.724265841148078\n",
      "Epoch 38: Accuracy = 0.228 Loss = 5.702985356965523\n",
      "Epoch 39: Accuracy = 0.23 Loss = 5.681904087541791\n",
      "Epoch 40: Accuracy = 0.231 Loss = 5.661012735740146\n",
      "Epoch 41: Accuracy = 0.232 Loss = 5.640299064663381\n",
      "Epoch 42: Accuracy = 0.233 Loss = 5.61974948275556\n",
      "Epoch 43: Accuracy = 0.235 Loss = 5.59934856628608\n",
      "Epoch 44: Accuracy = 0.235 Loss = 5.579092510399869\n",
      "Epoch 45: Accuracy = 0.237 Loss = 5.5589689083370875\n",
      "Epoch 46: Accuracy = 0.238 Loss = 5.538969618060835\n",
      "Epoch 47: Accuracy = 0.241 Loss = 5.519087699978377\n",
      "Epoch 48: Accuracy = 0.242 Loss = 5.499313679114779\n",
      "Epoch 49: Accuracy = 0.243 Loss = 5.47964354460774\n",
      "Epoch 50: Accuracy = 0.244 Loss = 5.460074475481841\n",
      "Epoch 51: Accuracy = 0.246 Loss = 5.440602425239264\n",
      "Epoch 52: Accuracy = 0.246 Loss = 5.421221477366003\n",
      "Epoch 53: Accuracy = 0.247 Loss = 5.4019240481149255\n",
      "Epoch 54: Accuracy = 0.249 Loss = 5.382709625861823\n",
      "Epoch 55: Accuracy = 0.25 Loss = 5.363580298678307\n",
      "Epoch 56: Accuracy = 0.25 Loss = 5.344528371498678\n",
      "Epoch 57: Accuracy = 0.252 Loss = 5.325552871643012\n",
      "Epoch 58: Accuracy = 0.253 Loss = 5.3066570003686\n",
      "Epoch 59: Accuracy = 0.254 Loss = 5.287836239600945\n",
      "Epoch 60: Accuracy = 0.256 Loss = 5.269088027146363\n",
      "Epoch 61: Accuracy = 0.258 Loss = 5.250412916543221\n",
      "Epoch 62: Accuracy = 0.259 Loss = 5.2318112690677845\n",
      "Epoch 63: Accuracy = 0.26 Loss = 5.213281260860348\n",
      "Epoch 64: Accuracy = 0.26 Loss = 5.194825985932265\n",
      "Epoch 65: Accuracy = 0.261 Loss = 5.176442617199175\n",
      "Epoch 66: Accuracy = 0.262 Loss = 5.15813245976947\n",
      "Epoch 67: Accuracy = 0.263 Loss = 5.139897563703544\n",
      "Epoch 68: Accuracy = 0.263 Loss = 5.12173685399663\n",
      "Epoch 69: Accuracy = 0.263 Loss = 5.103647666808974\n",
      "Epoch 70: Accuracy = 0.263 Loss = 5.085635432823697\n",
      "Epoch 71: Accuracy = 0.264 Loss = 5.067697209565241\n",
      "Epoch 72: Accuracy = 0.265 Loss = 5.049834313172038\n",
      "Epoch 73: Accuracy = 0.264 Loss = 5.032050711234693\n",
      "Epoch 74: Accuracy = 0.267 Loss = 5.01434603212567\n",
      "Epoch 75: Accuracy = 0.269 Loss = 4.996719154344334\n",
      "Epoch 76: Accuracy = 0.269 Loss = 4.979171868829964\n",
      "Epoch 77: Accuracy = 0.27 Loss = 4.961704325591118\n",
      "Epoch 78: Accuracy = 0.271 Loss = 4.944318298258391\n",
      "Epoch 79: Accuracy = 0.272 Loss = 4.9270114442207635\n",
      "Epoch 80: Accuracy = 0.272 Loss = 4.909784474831035\n",
      "Epoch 81: Accuracy = 0.273 Loss = 4.892638376683951\n",
      "Epoch 82: Accuracy = 0.273 Loss = 4.875576132811686\n",
      "Epoch 83: Accuracy = 0.274 Loss = 4.858593284532269\n",
      "Epoch 84: Accuracy = 0.275 Loss = 4.84169373512268\n",
      "Epoch 85: Accuracy = 0.276 Loss = 4.824880537698277\n",
      "Epoch 86: Accuracy = 0.277 Loss = 4.808149143300446\n",
      "Epoch 87: Accuracy = 0.279 Loss = 4.791505311477227\n",
      "Epoch 88: Accuracy = 0.28 Loss = 4.77494202508621\n",
      "Epoch 89: Accuracy = 0.28 Loss = 4.7584641590661425\n",
      "Epoch 90: Accuracy = 0.281 Loss = 4.742073572572864\n",
      "Epoch 91: Accuracy = 0.282 Loss = 4.725768191449583\n",
      "Epoch 92: Accuracy = 0.283 Loss = 4.709551144749244\n",
      "Epoch 93: Accuracy = 0.284 Loss = 4.693419295613028\n",
      "Epoch 94: Accuracy = 0.285 Loss = 4.677376714041225\n",
      "Epoch 95: Accuracy = 0.287 Loss = 4.661420570998005\n",
      "Epoch 96: Accuracy = 0.289 Loss = 4.645553369369371\n",
      "Epoch 97: Accuracy = 0.291 Loss = 4.629773490708918\n",
      "Epoch 98: Accuracy = 0.292 Loss = 4.61408253471198\n",
      "Epoch 99: Accuracy = 0.294 Loss = 4.598481131193901\n",
      "Epoch 100: Accuracy = 0.295 Loss = 4.582973291441215\n",
      "Epoch 101: Accuracy = 0.296 Loss = 4.567557224938878\n",
      "Epoch 102: Accuracy = 0.297 Loss = 4.552232457989051\n",
      "Epoch 103: Accuracy = 0.298 Loss = 4.537001207460288\n",
      "Epoch 104: Accuracy = 0.3 Loss = 4.521860954854836\n",
      "Epoch 105: Accuracy = 0.301 Loss = 4.506818397443914\n",
      "Epoch 106: Accuracy = 0.302 Loss = 4.491870355266693\n",
      "Epoch 107: Accuracy = 0.304 Loss = 4.477019336554504\n",
      "Epoch 108: Accuracy = 0.305 Loss = 4.462262929376759\n",
      "Epoch 109: Accuracy = 0.306 Loss = 4.4476045982693435\n",
      "Epoch 110: Accuracy = 0.307 Loss = 4.433041542110918\n",
      "Epoch 111: Accuracy = 0.31 Loss = 4.418576390717802\n",
      "Epoch 112: Accuracy = 0.31 Loss = 4.40420921773673\n",
      "Epoch 113: Accuracy = 0.312 Loss = 4.389944480152741\n",
      "Epoch 114: Accuracy = 0.314 Loss = 4.375777381255533\n",
      "Epoch 115: Accuracy = 0.315 Loss = 4.361708815751126\n",
      "Epoch 116: Accuracy = 0.316 Loss = 4.347744789412014\n",
      "Epoch 117: Accuracy = 0.318 Loss = 4.333881695075392\n",
      "Epoch 118: Accuracy = 0.319 Loss = 4.320119475554741\n",
      "Epoch 119: Accuracy = 0.319 Loss = 4.3064665300566105\n",
      "Epoch 120: Accuracy = 0.32 Loss = 4.292911975154673\n",
      "Epoch 121: Accuracy = 0.322 Loss = 4.279461853190249\n",
      "Epoch 122: Accuracy = 0.323 Loss = 4.266118961381743\n",
      "Epoch 123: Accuracy = 0.325 Loss = 4.252880075054237\n",
      "Epoch 124: Accuracy = 0.326 Loss = 4.239744793223316\n",
      "Epoch 125: Accuracy = 0.328 Loss = 4.22671667146513\n",
      "Epoch 126: Accuracy = 0.33 Loss = 4.213794505893124\n",
      "Epoch 127: Accuracy = 0.332 Loss = 4.20098023796421\n",
      "Epoch 128: Accuracy = 0.333 Loss = 4.188273032958821\n",
      "Epoch 129: Accuracy = 0.335 Loss = 4.1756728583807625\n",
      "Epoch 130: Accuracy = 0.336 Loss = 4.163180941449365\n",
      "Epoch 131: Accuracy = 0.336 Loss = 4.150797548752238\n",
      "Epoch 132: Accuracy = 0.337 Loss = 4.138519848962695\n",
      "Epoch 133: Accuracy = 0.339 Loss = 4.126355730596386\n",
      "Epoch 134: Accuracy = 0.341 Loss = 4.11429921019544\n",
      "Epoch 135: Accuracy = 0.343 Loss = 4.102351466786395\n",
      "Epoch 136: Accuracy = 0.344 Loss = 4.090513758981779\n",
      "Epoch 137: Accuracy = 0.347 Loss = 4.078786193348759\n",
      "Epoch 138: Accuracy = 0.348 Loss = 4.067169276675296\n",
      "Epoch 139: Accuracy = 0.351 Loss = 4.055662673563296\n",
      "Epoch 140: Accuracy = 0.354 Loss = 4.044269960121752\n",
      "Epoch 141: Accuracy = 0.356 Loss = 4.032981718562252\n",
      "Epoch 142: Accuracy = 0.357 Loss = 4.021808832311121\n",
      "Epoch 143: Accuracy = 0.359 Loss = 4.010742919555338\n",
      "Epoch 144: Accuracy = 0.36 Loss = 3.9997913657558346\n",
      "Epoch 145: Accuracy = 0.362 Loss = 3.988949863342204\n",
      "Epoch 146: Accuracy = 0.364 Loss = 3.9782175174387326\n",
      "Epoch 147: Accuracy = 0.365 Loss = 3.9675948254154245\n",
      "Epoch 148: Accuracy = 0.367 Loss = 3.9570861591563107\n",
      "Epoch 149: Accuracy = 0.37 Loss = 3.9466863219848305\n",
      "Epoch 150: Accuracy = 0.371 Loss = 3.936398779285336\n",
      "Epoch 151: Accuracy = 0.373 Loss = 3.9262204521491433\n",
      "Epoch 152: Accuracy = 0.375 Loss = 3.9161545871415595\n",
      "Epoch 153: Accuracy = 0.377 Loss = 3.906195639376114\n",
      "Epoch 154: Accuracy = 0.378 Loss = 3.896346238753974\n",
      "Epoch 155: Accuracy = 0.381 Loss = 3.8866067222853147\n",
      "Epoch 156: Accuracy = 0.384 Loss = 3.876975374883604\n",
      "Epoch 157: Accuracy = 0.384 Loss = 3.8674531663439877\n"
     ]
    },
    {
     "name": "stdout",
     "output_type": "stream",
     "text": [
      "Epoch 158: Accuracy = 0.386 Loss = 3.8580342190121417\n",
      "Epoch 159: Accuracy = 0.389 Loss = 3.848727748911576\n",
      "Epoch 160: Accuracy = 0.39 Loss = 3.8395244734991487\n",
      "Epoch 161: Accuracy = 0.391 Loss = 3.8304322045044543\n",
      "Epoch 162: Accuracy = 0.393 Loss = 3.821444954227298\n",
      "Epoch 163: Accuracy = 0.394 Loss = 3.8125601022693187\n",
      "Epoch 164: Accuracy = 0.396 Loss = 3.803784867368135\n",
      "Epoch 165: Accuracy = 0.397 Loss = 3.7951147298371666\n",
      "Epoch 166: Accuracy = 0.398 Loss = 3.786545855634153\n",
      "Epoch 167: Accuracy = 0.399 Loss = 3.7780794681603376\n",
      "Epoch 168: Accuracy = 0.401 Loss = 3.769719419699971\n",
      "Epoch 169: Accuracy = 0.403 Loss = 3.7614572112670572\n",
      "Epoch 170: Accuracy = 0.404 Loss = 3.7532992577637643\n",
      "Epoch 171: Accuracy = 0.406 Loss = 3.7452395541812176\n",
      "Epoch 172: Accuracy = 0.407 Loss = 3.7372800994173914\n",
      "Epoch 173: Accuracy = 0.409 Loss = 3.7294198125282643\n",
      "Epoch 174: Accuracy = 0.41 Loss = 3.721654961117646\n",
      "Epoch 175: Accuracy = 0.412 Loss = 3.7139889923278973\n",
      "Epoch 176: Accuracy = 0.413 Loss = 3.7064216510256838\n",
      "Epoch 177: Accuracy = 0.413 Loss = 3.6989459211716023\n",
      "Epoch 178: Accuracy = 0.414 Loss = 3.691569803702874\n",
      "Epoch 179: Accuracy = 0.416 Loss = 3.6842854434485113\n",
      "Epoch 180: Accuracy = 0.416 Loss = 3.6770943351487673\n",
      "Epoch 181: Accuracy = 0.417 Loss = 3.669994300540232\n",
      "Epoch 182: Accuracy = 0.419 Loss = 3.662984554877909\n",
      "Epoch 183: Accuracy = 0.419 Loss = 3.656068819697641\n",
      "Epoch 184: Accuracy = 0.42 Loss = 3.64923951337346\n",
      "Epoch 185: Accuracy = 0.422 Loss = 3.6424990357029055\n",
      "Epoch 186: Accuracy = 0.423 Loss = 3.635846245670658\n",
      "Epoch 187: Accuracy = 0.425 Loss = 3.6292816928272993\n",
      "Epoch 188: Accuracy = 0.426 Loss = 3.6228005527177314\n",
      "Epoch 189: Accuracy = 0.427 Loss = 3.616403621965456\n",
      "Epoch 190: Accuracy = 0.428 Loss = 3.610094087149325\n",
      "Epoch 191: Accuracy = 0.428 Loss = 3.6038623260009333\n",
      "Epoch 192: Accuracy = 0.429 Loss = 3.5977129761434536\n",
      "Epoch 193: Accuracy = 0.43 Loss = 3.5916432925390605\n",
      "Epoch 194: Accuracy = 0.431 Loss = 3.585652611433823\n",
      "Epoch 195: Accuracy = 0.433 Loss = 3.579741824733829\n",
      "Epoch 196: Accuracy = 0.433 Loss = 3.5739100512236464\n",
      "Epoch 197: Accuracy = 0.435 Loss = 3.5681510019132676\n",
      "Epoch 198: Accuracy = 0.436 Loss = 3.5624669148828634\n",
      "Epoch 199: Accuracy = 0.436 Loss = 3.5568582580607133\n",
      "Epoch 200: Accuracy = 0.436 Loss = 3.5513235504516927\n",
      "Epoch 201: Accuracy = 0.436 Loss = 3.54586079553353\n",
      "Epoch 202: Accuracy = 0.438 Loss = 3.5404705202876463\n",
      "Epoch 203: Accuracy = 0.439 Loss = 3.5351473233877977\n",
      "Epoch 204: Accuracy = 0.44 Loss = 3.5298953472931616\n",
      "Epoch 205: Accuracy = 0.441 Loss = 3.524713030489314\n",
      "Epoch 206: Accuracy = 0.441 Loss = 3.519597748505263\n",
      "Epoch 207: Accuracy = 0.441 Loss = 3.5145488095028967\n",
      "Epoch 208: Accuracy = 0.441 Loss = 3.509564792219006\n",
      "Epoch 209: Accuracy = 0.442 Loss = 3.50464482621366\n",
      "Epoch 210: Accuracy = 0.442 Loss = 3.4997888923115577\n",
      "Epoch 211: Accuracy = 0.443 Loss = 3.4949937441170853\n",
      "Epoch 212: Accuracy = 0.444 Loss = 3.490262704133139\n",
      "Epoch 213: Accuracy = 0.444 Loss = 3.4855912514004417\n",
      "Epoch 214: Accuracy = 0.445 Loss = 3.4809804672024005\n",
      "Epoch 215: Accuracy = 0.446 Loss = 3.4764263094532106\n",
      "Epoch 216: Accuracy = 0.447 Loss = 3.471932015554761\n",
      "Epoch 217: Accuracy = 0.448 Loss = 3.4674962846409807\n",
      "Epoch 218: Accuracy = 0.448 Loss = 3.463112754329668\n",
      "Epoch 219: Accuracy = 0.448 Loss = 3.4587888698985143\n",
      "Epoch 220: Accuracy = 0.448 Loss = 3.4545184069256765\n",
      "Epoch 221: Accuracy = 0.45 Loss = 3.4503029965845293\n",
      "Epoch 222: Accuracy = 0.45 Loss = 3.4461365967034445\n",
      "Epoch 223: Accuracy = 0.451 Loss = 3.4420266470450946\n",
      "Epoch 224: Accuracy = 0.452 Loss = 3.4379649206412646\n",
      "Epoch 225: Accuracy = 0.453 Loss = 3.4339542390612947\n",
      "Epoch 226: Accuracy = 0.453 Loss = 3.4299955124532624\n",
      "Epoch 227: Accuracy = 0.454 Loss = 3.4260805021401404\n",
      "Epoch 228: Accuracy = 0.454 Loss = 3.4222218042590864\n",
      "Epoch 229: Accuracy = 0.454 Loss = 3.4184054251667444\n",
      "Epoch 230: Accuracy = 0.455 Loss = 3.4146364087311825\n",
      "Epoch 231: Accuracy = 0.454 Loss = 3.4109146637424455\n",
      "Epoch 232: Accuracy = 0.455 Loss = 3.4072361957135997\n",
      "Epoch 233: Accuracy = 0.455 Loss = 3.403602512366407\n",
      "Epoch 234: Accuracy = 0.456 Loss = 3.40001704514663\n",
      "Epoch 235: Accuracy = 0.456 Loss = 3.396471942616527\n",
      "Epoch 236: Accuracy = 0.457 Loss = 3.3929693425677425\n",
      "Epoch 237: Accuracy = 0.457 Loss = 3.3895103698947677\n",
      "Epoch 238: Accuracy = 0.457 Loss = 3.386090479032849\n",
      "Epoch 239: Accuracy = 0.457 Loss = 3.3827113474815342\n",
      "Epoch 240: Accuracy = 0.457 Loss = 3.379376213491175\n",
      "Epoch 241: Accuracy = 0.458 Loss = 3.376077372662962\n",
      "Epoch 242: Accuracy = 0.458 Loss = 3.372817280368873\n",
      "Epoch 243: Accuracy = 0.458 Loss = 3.36959903766252\n",
      "Epoch 244: Accuracy = 0.459 Loss = 3.3664167720652136\n",
      "Epoch 245: Accuracy = 0.458 Loss = 3.3632732904678564\n",
      "Epoch 246: Accuracy = 0.458 Loss = 3.3601600798847837\n",
      "Epoch 247: Accuracy = 0.457 Loss = 3.3570917851560056\n",
      "Epoch 248: Accuracy = 0.458 Loss = 3.3540557379400178\n",
      "Epoch 249: Accuracy = 0.458 Loss = 3.3510551955776284\n",
      "Epoch 250: Accuracy = 0.459 Loss = 3.3480891954007945\n",
      "Epoch 251: Accuracy = 0.459 Loss = 3.3451570444684013\n",
      "Epoch 252: Accuracy = 0.459 Loss = 3.342257742186034\n",
      "Epoch 253: Accuracy = 0.459 Loss = 3.3393937317926263\n",
      "Epoch 254: Accuracy = 0.458 Loss = 3.3365583027809116\n",
      "Epoch 255: Accuracy = 0.459 Loss = 3.333761077164755\n",
      "Epoch 256: Accuracy = 0.459 Loss = 3.3309910931196924\n",
      "Epoch 257: Accuracy = 0.459 Loss = 3.328252609514257\n",
      "Epoch 258: Accuracy = 0.459 Loss = 3.3255464150812277\n",
      "Epoch 259: Accuracy = 0.459 Loss = 3.3228707151480843\n",
      "Epoch 260: Accuracy = 0.459 Loss = 3.3202242575506298\n",
      "Epoch 261: Accuracy = 0.46 Loss = 3.3176042804514387\n",
      "Epoch 262: Accuracy = 0.46 Loss = 3.315019020066991\n",
      "Epoch 263: Accuracy = 0.46 Loss = 3.3124597764948507\n",
      "Epoch 264: Accuracy = 0.46 Loss = 3.309930916443414\n",
      "Epoch 265: Accuracy = 0.46 Loss = 3.3074264883570823\n",
      "Epoch 266: Accuracy = 0.46 Loss = 3.304950547557709\n",
      "Epoch 267: Accuracy = 0.46 Loss = 3.302501760004254\n",
      "Epoch 268: Accuracy = 0.461 Loss = 3.300079117975201\n",
      "Epoch 269: Accuracy = 0.461 Loss = 3.297685128598875\n",
      "Epoch 270: Accuracy = 0.462 Loss = 3.295312611488261\n",
      "Epoch 271: Accuracy = 0.461 Loss = 3.2929694076449847\n",
      "Epoch 272: Accuracy = 0.461 Loss = 3.2906512068683993\n",
      "Epoch 273: Accuracy = 0.462 Loss = 3.2883559221050493\n",
      "Epoch 274: Accuracy = 0.462 Loss = 3.286089328260184\n",
      "Epoch 275: Accuracy = 0.461 Loss = 3.2838407338301905\n",
      "Epoch 276: Accuracy = 0.461 Loss = 3.2816188630684415\n",
      "Epoch 277: Accuracy = 0.461 Loss = 3.2794217808815085\n",
      "Epoch 278: Accuracy = 0.461 Loss = 3.277245278205736\n",
      "Epoch 279: Accuracy = 0.461 Loss = 3.2750955524817904\n",
      "Epoch 280: Accuracy = 0.461 Loss = 3.2729649536126026\n",
      "Epoch 281: Accuracy = 0.461 Loss = 3.27085840074193\n",
      "Epoch 282: Accuracy = 0.461 Loss = 3.268775040399137\n",
      "Epoch 283: Accuracy = 0.461 Loss = 3.2667124049095073\n",
      "Epoch 284: Accuracy = 0.461 Loss = 3.2646712305707015\n",
      "Epoch 285: Accuracy = 0.461 Loss = 3.262651369665017\n",
      "Epoch 286: Accuracy = 0.461 Loss = 3.2606514467463374\n",
      "Epoch 287: Accuracy = 0.461 Loss = 3.2586749988942807\n",
      "Epoch 288: Accuracy = 0.461 Loss = 3.2567164708711074\n",
      "Epoch 289: Accuracy = 0.462 Loss = 3.2547809367502287\n",
      "Epoch 290: Accuracy = 0.462 Loss = 3.2528630339802374\n",
      "Epoch 291: Accuracy = 0.462 Loss = 3.2509669606795937\n",
      "Epoch 292: Accuracy = 0.462 Loss = 3.2490860760848292\n",
      "Epoch 293: Accuracy = 0.462 Loss = 3.2472302166168374\n",
      "Epoch 294: Accuracy = 0.462 Loss = 3.2453922210639057\n",
      "Epoch 295: Accuracy = 0.463 Loss = 3.2435694059018987\n",
      "Epoch 296: Accuracy = 0.463 Loss = 3.241768512267659\n",
      "Epoch 297: Accuracy = 0.463 Loss = 3.23998290414912\n",
      "Epoch 298: Accuracy = 0.463 Loss = 3.238220363918997\n",
      "Epoch 299: Accuracy = 0.462 Loss = 3.236470586040266\n"
     ]
    }
   ],
   "source": [
    "def train(data, word2index, model, epochs, loss_func, optimizer):\n",
    "    losses = []\n",
    "    accuracies = []\n",
    "    for epoch in range(epochs):\n",
    "        \n",
    "        # Setup / Reset correct counter and total loss\n",
    "        correct_count = 0\n",
    "        total_loss = 0\n",
    "        \n",
    "        for target, context in data:\n",
    "            # Get context indexes\n",
    "            context_idxs = [word2index[w] for w in context]\n",
    "            tensor_context_idxs = torch.tensor(context_idxs, dtype=torch.long).cuda()\n",
    "            \n",
    "            # Zero out gradients from old instance\n",
    "            model.zero_grad()\n",
    "            \n",
    "            # Get log probabilities and most probable context predictions\n",
    "            log_probs, context_pred_idxs = get_prediction(target, model, word2index)\n",
    "            \n",
    "            # If any of the prediction is correct, add correct counter\n",
    "            correct_count += len(set(context_idxs).intersection(context_pred_idxs))\n",
    "            \n",
    "            # Calculate Loss\n",
    "            loss = loss_func(log_probs, tensor_context_idxs)\n",
    "            total_loss += loss.item()\n",
    "            \n",
    "            # Backward pass and update gradient\n",
    "            loss.backward()\n",
    "            optimizer.step()\n",
    "        \n",
    "        # Calculate accuracy & loss for this epoch\n",
    "        accuracy = round(correct_count / ( len(data) * 2 * context_size ), 3)\n",
    "        loss = total_loss / len(data)\n",
    "        print(\"Epoch {}: Accuracy = {} Loss = {}\".format(epoch, accuracy, loss))\n",
    "        \n",
    "        # Append accuracy and loss for visualization\n",
    "        accuracies.append(accuracy)\n",
    "        losses.append(loss)\n",
    "            \n",
    "    return losses, accuracies, model\n",
    "\n",
    "losses, accuracies, model = train(data, word2index, model, epochs, loss_function, optimizer)"
   ]
  },
  {
   "cell_type": "markdown",
   "id": "geological-statistics",
   "metadata": {},
   "source": [
    "### 3. Visualization"
   ]
  },
  {
   "cell_type": "code",
   "execution_count": 18,
   "id": "gross-affect",
   "metadata": {},
   "outputs": [
    {
     "data": {
      "image/png": "[encoded data removed]",
      "text/plain": [
       "<Figure size 432x288 with 1 Axes>"
      ]
     },
     "metadata": {
      "needs_background": "light"
     },
     "output_type": "display_data"
    }
   ],
   "source": [
    "# Display losses over time\n",
    "plt.figure()\n",
    "plt.plot(losses)\n",
    "plt.show()"
   ]
  },
  {
   "cell_type": "code",
   "execution_count": 19,
   "id": "seventh-scout",
   "metadata": {
    "scrolled": true
   },
   "outputs": [
    {
     "data": {
      "image/png": "[encoded data removed]",
      "text/plain": [
       "<Figure size 432x288 with 1 Axes>"
      ]
     },
     "metadata": {
      "needs_background": "light"
     },
     "output_type": "display_data"
    }
   ],
   "source": [
    "# Display accuracies over time\n",
    "plt.figure()\n",
    "plt.plot(accuracies)\n",
    "plt.show()"
   ]
  },
  {
   "cell_type": "code",
   "execution_count": 24,
   "id": "appointed-humanitarian",
   "metadata": {},
   "outputs": [
    {
     "name": "stdout",
     "output_type": "stream",
     "text": [
      "Predicted Context Words from Untrained Model: ['if', 'glory', 'when', 'millions']\n",
      "Predicted Context Words from Trained Model: ['the', 'greatest', 'for', 'freedom']\n"
     ]
    }
   ],
   "source": [
    "def predict_context_words(model, sample_input):\n",
    "    _, context_pred_idxs = get_prediction(sample_input, model, word2index)\n",
    "    context_preds = [index2word[idx] for idx in context_pred_idxs]\n",
    "    return context_preds\n",
    "\n",
    "# Initialize another SkipGram model (untrained)\n",
    "untrained_model = SkipGram(context_size = context_size, embedding_dim = 20, vocab_size = len(vocab))\n",
    "untrained_model.cuda()\n",
    "\n",
    "# Get predictions\n",
    "untrained_predictions = predict_context_words(untrained_model, \"demonstration\")\n",
    "trained_predictions = predict_context_words(model, \"demonstration\")\n",
    "\n",
    "print(\"Predicted Context Words from Untrained Model: {}\".format(untrained_predictions))\n",
    "print(\"Predicted Context Words from Trained Model: {}\".format(trained_predictions))"
   ]
  },
  {
   "cell_type": "markdown",
   "id": "southwest-banking",
   "metadata": {},
   "source": [
    "### Questions and expected answers for the report\n",
    "\n",
    "A. Copy and paste your SkipGram class code (Task #1 in the notebook)\n",
    "\n",
    "B. Copy and paste your train function (Task #2 in the notebook), along with any helper functions you might have used (e.g. a function to compute the accuracy of your model after each iteration). Please also copy and paste the function call with the parameters you used for the train() function.\n",
    "\n",
    "C. Why is the SkipGram model much more difficult to train than the CBoW. Is it problematic if it does not reach a 100% accuracy on the task it is being trained on?\n",
    "\n",
    "D. If we were to evaluate this model by using intrinsic methods, what could be a possible approach to do so. Please submit some code that will demonstrate the performance/problems of the word embedding you have trained!"
   ]
  }
 ],
 "metadata": {
  "kernelspec": {
   "display_name": "DeepLearning",
   "language": "python",
   "name": "deeplearning"
  },
  "language_info": {
   "codemirror_mode": {
    "name": "ipython",
    "version": 3
   },
   "file_extension": ".py",
   "mimetype": "text/x-python",
   "name": "python",
   "nbconvert_exporter": "python",
   "pygments_lexer": "ipython3",
   "version": "3.8.7"
  }
 },
 "nbformat": 4,
 "nbformat_minor": 5
}
